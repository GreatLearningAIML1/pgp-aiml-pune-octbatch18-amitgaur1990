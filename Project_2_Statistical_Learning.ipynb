{
 "cells": [
  {
   "cell_type": "code",
   "execution_count": 4,
   "metadata": {},
   "outputs": [],
   "source": [
    "import numpy as np\n",
    "import pandas as pd"
   ]
  },
  {
   "cell_type": "code",
   "execution_count": 5,
   "metadata": {},
   "outputs": [
    {
     "data": {
      "text/html": [
       "<div>\n",
       "<style scoped>\n",
       "    .dataframe tbody tr th:only-of-type {\n",
       "        vertical-align: middle;\n",
       "    }\n",
       "\n",
       "    .dataframe tbody tr th {\n",
       "        vertical-align: top;\n",
       "    }\n",
       "\n",
       "    .dataframe thead th {\n",
       "        text-align: right;\n",
       "    }\n",
       "</style>\n",
       "<table border=\"1\" class=\"dataframe\">\n",
       "  <thead>\n",
       "    <tr style=\"text-align: right;\">\n",
       "      <th></th>\n",
       "      <th>ALESPERSON</th>\n",
       "      <th>Old Scheme (in thousands)</th>\n",
       "      <th>New Scheme (in thousands)</th>\n",
       "      <th>Old Scheme</th>\n",
       "      <th>New Scheme</th>\n",
       "    </tr>\n",
       "  </thead>\n",
       "  <tbody>\n",
       "    <tr>\n",
       "      <th>count</th>\n",
       "      <td>30.000000</td>\n",
       "      <td>30.000000</td>\n",
       "      <td>30.000000</td>\n",
       "      <td>30.000000</td>\n",
       "      <td>30.000000</td>\n",
       "    </tr>\n",
       "    <tr>\n",
       "      <th>mean</th>\n",
       "      <td>15.500000</td>\n",
       "      <td>68.033333</td>\n",
       "      <td>72.033333</td>\n",
       "      <td>68033.333333</td>\n",
       "      <td>72033.333333</td>\n",
       "    </tr>\n",
       "    <tr>\n",
       "      <th>std</th>\n",
       "      <td>8.803408</td>\n",
       "      <td>20.455980</td>\n",
       "      <td>24.062395</td>\n",
       "      <td>20455.980212</td>\n",
       "      <td>24062.394947</td>\n",
       "    </tr>\n",
       "    <tr>\n",
       "      <th>min</th>\n",
       "      <td>1.000000</td>\n",
       "      <td>28.000000</td>\n",
       "      <td>32.000000</td>\n",
       "      <td>28000.000000</td>\n",
       "      <td>32000.000000</td>\n",
       "    </tr>\n",
       "    <tr>\n",
       "      <th>25%</th>\n",
       "      <td>8.250000</td>\n",
       "      <td>54.000000</td>\n",
       "      <td>55.000000</td>\n",
       "      <td>54000.000000</td>\n",
       "      <td>55000.000000</td>\n",
       "    </tr>\n",
       "    <tr>\n",
       "      <th>50%</th>\n",
       "      <td>15.500000</td>\n",
       "      <td>67.000000</td>\n",
       "      <td>74.000000</td>\n",
       "      <td>67000.000000</td>\n",
       "      <td>74000.000000</td>\n",
       "    </tr>\n",
       "    <tr>\n",
       "      <th>75%</th>\n",
       "      <td>22.750000</td>\n",
       "      <td>81.500000</td>\n",
       "      <td>85.750000</td>\n",
       "      <td>81500.000000</td>\n",
       "      <td>85750.000000</td>\n",
       "    </tr>\n",
       "    <tr>\n",
       "      <th>max</th>\n",
       "      <td>30.000000</td>\n",
       "      <td>110.000000</td>\n",
       "      <td>122.000000</td>\n",
       "      <td>110000.000000</td>\n",
       "      <td>122000.000000</td>\n",
       "    </tr>\n",
       "  </tbody>\n",
       "</table>\n",
       "</div>"
      ],
      "text/plain": [
       "       ALESPERSON  Old Scheme (in thousands)  New Scheme (in thousands)  \\\n",
       "count   30.000000                  30.000000                  30.000000   \n",
       "mean    15.500000                  68.033333                  72.033333   \n",
       "std      8.803408                  20.455980                  24.062395   \n",
       "min      1.000000                  28.000000                  32.000000   \n",
       "25%      8.250000                  54.000000                  55.000000   \n",
       "50%     15.500000                  67.000000                  74.000000   \n",
       "75%     22.750000                  81.500000                  85.750000   \n",
       "max     30.000000                 110.000000                 122.000000   \n",
       "\n",
       "          Old Scheme     New Scheme  \n",
       "count      30.000000      30.000000  \n",
       "mean    68033.333333   72033.333333  \n",
       "std     20455.980212   24062.394947  \n",
       "min     28000.000000   32000.000000  \n",
       "25%     54000.000000   55000.000000  \n",
       "50%     67000.000000   74000.000000  \n",
       "75%     81500.000000   85750.000000  \n",
       "max    110000.000000  122000.000000  "
      ]
     },
     "execution_count": 5,
     "metadata": {},
     "output_type": "execute_result"
    }
   ],
   "source": [
    "ds = pd.read_csv(\"Titan_Sales.csv\")\n",
    "ds[\"Old Scheme\"] = ds[\"Old Scheme (in thousands)\"] * 1000 \n",
    "ds[\"New Scheme\"] =ds [\"New Scheme (in thousands)\"] * 1000\n",
    "ds.describe()"
   ]
  },
  {
   "cell_type": "markdown",
   "metadata": {},
   "source": [
    "# Answer 1 "
   ]
  },
  {
   "cell_type": "code",
   "execution_count": 6,
   "metadata": {},
   "outputs": [
    {
     "data": {
      "text/plain": [
       "68033.33333333333"
      ]
     },
     "execution_count": 6,
     "metadata": {},
     "output_type": "execute_result"
    }
   ],
   "source": [
    "ds[\"Old Scheme\"].mean()"
   ]
  },
  {
   "cell_type": "code",
   "execution_count": 7,
   "metadata": {},
   "outputs": [
    {
     "data": {
      "text/plain": [
       "72033.33333333333"
      ]
     },
     "execution_count": 7,
     "metadata": {},
     "output_type": "execute_result"
    }
   ],
   "source": [
    "ds[\"New Scheme\"].mean()\n"
   ]
  },
  {
   "cell_type": "code",
   "execution_count": 8,
   "metadata": {},
   "outputs": [
    {
     "data": {
      "text/plain": [
       "4000.0"
      ]
     },
     "execution_count": 8,
     "metadata": {},
     "output_type": "execute_result"
    }
   ],
   "source": [
    "diffmean = ds[\"New Scheme\"].mean() -ds[\"Old Scheme\"].mean()\n",
    "diffmean"
   ]
  },
  {
   "cell_type": "markdown",
   "metadata": {},
   "source": [
    "# Answer 2"
   ]
  },
  {
   "cell_type": "markdown",
   "metadata": {},
   "source": [
    "mu1 = Average sums assured by salesperson in old scheme.\n",
    "mu2 = Average sums assured by salesperson in new scheme.\n",
    "\n",
    "H0: mu1 = mu2;There is no significant difference in outputs \n",
    "H1: m2 - m1  > 0; There is significant difference in outputs\n",
    "\n",
    "alpha= .05"
   ]
  },
  {
   "cell_type": "code",
   "execution_count": 9,
   "metadata": {},
   "outputs": [
    {
     "data": {
      "text/plain": [
       "(-1.5559143823544377, 0.13057553961337662)"
      ]
     },
     "execution_count": 9,
     "metadata": {},
     "output_type": "execute_result"
    }
   ],
   "source": [
    "import scipy.stats as stats\n",
    "s,p = stats.ttest_rel(ds[\"Old Scheme\"],ds[\"New Scheme\"])\n",
    "s,p"
   ]
  },
  {
   "cell_type": "code",
   "execution_count": 10,
   "metadata": {},
   "outputs": [
    {
     "data": {
      "text/plain": [
       "False"
      ]
     },
     "execution_count": 10,
     "metadata": {},
     "output_type": "execute_result"
    }
   ],
   "source": [
    "p <=0.05\n"
   ]
  },
  {
   "cell_type": "markdown",
   "metadata": {},
   "source": [
    "pvalue > alpha ,hence accept null hypothesis.The new scheme has not raised outputs signifiantly."
   ]
  },
  {
   "cell_type": "markdown",
   "metadata": {},
   "source": [
    "# Answer 3"
   ]
  },
  {
   "cell_type": "markdown",
   "metadata": {},
   "source": [
    "A small p-value (typically ≤ 0.05) indicates strong evidence against the null hypothesis, so you reject the null hypothesis.\n",
    "\n",
    "A large p-value (> 0.05) indicates weak evidence against the null hypothesis, so you fail to reject the null hypothesis.\n"
   ]
  },
  {
   "cell_type": "markdown",
   "metadata": {},
   "source": [
    "# Answer 4(a)"
   ]
  },
  {
   "cell_type": "markdown",
   "metadata": {},
   "source": [
    "When the null hypothesis is true and you reject it, you make a type I error. The probability of making a type I error is alpha, which is the level of significance you set for your hypothesis test.\n",
    "P(Type1 Error) = 0.05\n"
   ]
  },
  {
   "cell_type": "markdown",
   "metadata": {},
   "source": [
    "# Answer 4(b)"
   ]
  },
  {
   "cell_type": "markdown",
   "metadata": {},
   "source": [
    "m2 = Average sums assured by salesperson in new scheme.\n",
    "\n",
    "m1 = Average sums assured by salesperson in old scheme\n",
    "\n",
    "H0: m2-m1 ≤ 5000 (statistially)  H1: m2-m1 > 5000\n",
    "        "
   ]
  },
  {
   "cell_type": "code",
   "execution_count": 11,
   "metadata": {},
   "outputs": [
    {
     "data": {
      "text/plain": [
       "(1.9448929779430468,\n",
       " 1.6991270265334972,\n",
       " 0.06154216863016693,\n",
       " 2570.8355455569017)"
      ]
     },
     "execution_count": 11,
     "metadata": {},
     "output_type": "execute_result"
    }
   ],
   "source": [
    "from numpy import mean\n",
    "from math import sqrt\n",
    "from scipy.stats import t\n",
    "def dependent_ttest(data1, data2, alpha,meanDif):\n",
    "\tn = len(data1)\n",
    "\td1 = sum([(data1[i]-data2[i])**2 for i in range(n)])\n",
    "\td2 = sum([data1[i]-data2[i] for i in range(n)])\n",
    "\tsd = sqrt((d1 - (d2**2 / n)) / (n - 1))\n",
    "\tsed = sd / sqrt(n)\n",
    "\tt_stat = (meanDif) / sed\n",
    "\tdf = (n - 1)\n",
    "\tcv = t.ppf(1.0 - alpha, df)\n",
    "\tp = (1.0 - t.cdf(abs(t_stat), df)) * 2.0\n",
    "\treturn t_stat, cv, p,sed\n",
    "t_stat, cv, p,sed=dependent_ttest(ds['New Scheme'],ds['Old Scheme'],0.05,5000)\n",
    "t_stat, cv, p,sed"
   ]
  },
  {
   "cell_type": "markdown",
   "metadata": {},
   "source": [
    "#Answer 4(c) "
   ]
  },
  {
   "cell_type": "markdown",
   "metadata": {},
   "source": [
    "m2 = Average sums assured by salesperson in new scheme.\n",
    "\n",
    "m1 = Average sums assured by salesperson in old scheme\n",
    "H0: m2-m1 = 4000 (statistially)  H1: m2-m1 >= 0\n",
    "\n",
    "H0 will be rejected if test statistics > t_critical.\n",
    "\n",
    "alpha = 0.05 \n",
    "degree of Freedom = 29,\n",
    "critical value for t statistic  will be 1.699.\n",
    "\n"
   ]
  },
  {
   "cell_type": "code",
   "execution_count": 12,
   "metadata": {},
   "outputs": [
    {
     "data": {
      "text/plain": [
       "4368.176156228719"
      ]
     },
     "execution_count": 12,
     "metadata": {},
     "output_type": "execute_result"
    }
   ],
   "source": [
    "xbar= cv*sed\n",
    "xbar"
   ]
  },
  {
   "cell_type": "markdown",
   "metadata": {},
   "source": [
    "Hence, H0 will be rejected when xbar ≥ 4368.17"
   ]
  },
  {
   "cell_type": "markdown",
   "metadata": {},
   "source": [
    "Probability(Type 2 error) \n",
    "=P (xbar < 4368.176)"
   ]
  },
  {
   "cell_type": "code",
   "execution_count": 13,
   "metadata": {},
   "outputs": [
    {
     "data": {
      "text/plain": [
       "0.5962027475205683"
      ]
     },
     "execution_count": 13,
     "metadata": {},
     "output_type": "execute_result"
    }
   ],
   "source": [
    "t1 = (xbar-5000)/sed\n",
    "p =1- stats.t.cdf(t1,29)\n",
    "p"
   ]
  },
  {
   "cell_type": "code",
   "execution_count": 14,
   "metadata": {},
   "outputs": [
    {
     "data": {
      "text/plain": [
       "0.5962027475205683"
      ]
     },
     "execution_count": 14,
     "metadata": {},
     "output_type": "execute_result"
    }
   ],
   "source": [
    "p =1- stats.t.cdf(t1,29)\n",
    "p"
   ]
  },
  {
   "cell_type": "markdown",
   "metadata": {},
   "source": [
    "Power of test = 1-p"
   ]
  },
  {
   "cell_type": "code",
   "execution_count": 15,
   "metadata": {},
   "outputs": [
    {
     "data": {
      "text/plain": [
       "0.40379725247943166"
      ]
     },
     "execution_count": 15,
     "metadata": {},
     "output_type": "execute_result"
    }
   ],
   "source": [
    "1-p"
   ]
  },
  {
   "cell_type": "code",
   "execution_count": null,
   "metadata": {},
   "outputs": [],
   "source": []
  }
 ],
 "metadata": {
  "kernelspec": {
   "display_name": "Python 3",
   "language": "python",
   "name": "python3"
  },
  "language_info": {
   "codemirror_mode": {
    "name": "ipython",
    "version": 3
   },
   "file_extension": ".py",
   "mimetype": "text/x-python",
   "name": "python",
   "nbconvert_exporter": "python",
   "pygments_lexer": "ipython3",
   "version": "3.7.0"
  }
 },
 "nbformat": 4,
 "nbformat_minor": 2
}
