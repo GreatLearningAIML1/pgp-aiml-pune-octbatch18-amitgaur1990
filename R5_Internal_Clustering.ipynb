{
 "cells": [
  {
   "cell_type": "markdown",
   "metadata": {},
   "source": [
    "### The data set has information about features of silhouette extracted from the images of different cars\n",
    "\n",
    "Four \"Corgie\" model vehicles were used for the experiment: a double decker bus, Cheverolet van, Saab 9000 and an Opel Manta 400 cars. This particular combination of vehicles was chosen with the expectation that the bus, van and either one of the cars would be readily distinguishable, but it would be more difficult to distinguish between the cars.\n",
    "\n"
   ]
  },
  {
   "cell_type": "code",
   "execution_count": 66,
   "metadata": {},
   "outputs": [],
   "source": [
    "import numpy as np\n",
    "import pandas as pd\n",
    "import matplotlib.pyplot as plt\n",
    "%matplotlib inline\n",
    "import seaborn as sns\n",
    "from scipy import stats"
   ]
  },
  {
   "cell_type": "markdown",
   "metadata": {},
   "source": [
    "### 1. Read the dataset using function .dropna() - to avoid dealing with NAs as of now"
   ]
  },
  {
   "cell_type": "code",
   "execution_count": 67,
   "metadata": {},
   "outputs": [],
   "source": [
    "df = pd.read_csv(\"vehicle.csv\")\n",
    "df.dropna(inplace=True)"
   ]
  },
  {
   "cell_type": "code",
   "execution_count": 68,
   "metadata": {},
   "outputs": [
    {
     "data": {
      "text/html": [
       "<div>\n",
       "<style scoped>\n",
       "    .dataframe tbody tr th:only-of-type {\n",
       "        vertical-align: middle;\n",
       "    }\n",
       "\n",
       "    .dataframe tbody tr th {\n",
       "        vertical-align: top;\n",
       "    }\n",
       "\n",
       "    .dataframe thead th {\n",
       "        text-align: right;\n",
       "    }\n",
       "</style>\n",
       "<table border=\"1\" class=\"dataframe\">\n",
       "  <thead>\n",
       "    <tr style=\"text-align: right;\">\n",
       "      <th></th>\n",
       "      <th>compactness</th>\n",
       "      <th>circularity</th>\n",
       "      <th>distance_circularity</th>\n",
       "      <th>radius_ratio</th>\n",
       "      <th>pr.axis_aspect_ratio</th>\n",
       "      <th>max.length_aspect_ratio</th>\n",
       "      <th>scatter_ratio</th>\n",
       "      <th>elongatedness</th>\n",
       "      <th>pr.axis_rectangularity</th>\n",
       "      <th>max.length_rectangularity</th>\n",
       "      <th>scaled_variance</th>\n",
       "      <th>scaled_variance.1</th>\n",
       "      <th>scaled_radius_of_gyration</th>\n",
       "      <th>scaled_radius_of_gyration.1</th>\n",
       "      <th>skewness_about</th>\n",
       "      <th>skewness_about.1</th>\n",
       "      <th>skewness_about.2</th>\n",
       "      <th>hollows_ratio</th>\n",
       "      <th>class</th>\n",
       "    </tr>\n",
       "  </thead>\n",
       "  <tbody>\n",
       "    <tr>\n",
       "      <th>136</th>\n",
       "      <td>86</td>\n",
       "      <td>48.0</td>\n",
       "      <td>75.0</td>\n",
       "      <td>136.0</td>\n",
       "      <td>58.0</td>\n",
       "      <td>10</td>\n",
       "      <td>161.0</td>\n",
       "      <td>43.0</td>\n",
       "      <td>20.0</td>\n",
       "      <td>163</td>\n",
       "      <td>170.0</td>\n",
       "      <td>371.0</td>\n",
       "      <td>185.0</td>\n",
       "      <td>75.0</td>\n",
       "      <td>3.0</td>\n",
       "      <td>1.0</td>\n",
       "      <td>183.0</td>\n",
       "      <td>192</td>\n",
       "      <td>van</td>\n",
       "    </tr>\n",
       "    <tr>\n",
       "      <th>182</th>\n",
       "      <td>91</td>\n",
       "      <td>42.0</td>\n",
       "      <td>66.0</td>\n",
       "      <td>169.0</td>\n",
       "      <td>66.0</td>\n",
       "      <td>7</td>\n",
       "      <td>145.0</td>\n",
       "      <td>44.0</td>\n",
       "      <td>19.0</td>\n",
       "      <td>140</td>\n",
       "      <td>169.0</td>\n",
       "      <td>325.0</td>\n",
       "      <td>159.0</td>\n",
       "      <td>67.0</td>\n",
       "      <td>4.0</td>\n",
       "      <td>0.0</td>\n",
       "      <td>201.0</td>\n",
       "      <td>207</td>\n",
       "      <td>bus</td>\n",
       "    </tr>\n",
       "  </tbody>\n",
       "</table>\n",
       "</div>"
      ],
      "text/plain": [
       "     compactness  circularity  distance_circularity  radius_ratio  \\\n",
       "136           86         48.0                  75.0         136.0   \n",
       "182           91         42.0                  66.0         169.0   \n",
       "\n",
       "     pr.axis_aspect_ratio  max.length_aspect_ratio  scatter_ratio  \\\n",
       "136                  58.0                       10          161.0   \n",
       "182                  66.0                        7          145.0   \n",
       "\n",
       "     elongatedness  pr.axis_rectangularity  max.length_rectangularity  \\\n",
       "136           43.0                    20.0                        163   \n",
       "182           44.0                    19.0                        140   \n",
       "\n",
       "     scaled_variance  scaled_variance.1  scaled_radius_of_gyration  \\\n",
       "136            170.0              371.0                      185.0   \n",
       "182            169.0              325.0                      159.0   \n",
       "\n",
       "     scaled_radius_of_gyration.1  skewness_about  skewness_about.1  \\\n",
       "136                         75.0             3.0               1.0   \n",
       "182                         67.0             4.0               0.0   \n",
       "\n",
       "     skewness_about.2  hollows_ratio class  \n",
       "136             183.0            192   van  \n",
       "182             201.0            207   bus  "
      ]
     },
     "execution_count": 68,
     "metadata": {},
     "output_type": "execute_result"
    }
   ],
   "source": [
    "df.sample(2)"
   ]
  },
  {
   "cell_type": "markdown",
   "metadata": {},
   "source": [
    "### 2. Print/ Plot the dependent (categorical variable) - Class column"
   ]
  },
  {
   "cell_type": "markdown",
   "metadata": {},
   "source": [
    "Since the variable is categorical, you can use value_counts function"
   ]
  },
  {
   "cell_type": "code",
   "execution_count": 69,
   "metadata": {},
   "outputs": [],
   "source": [
    "class_var = df[\"class\"].value_counts()"
   ]
  },
  {
   "cell_type": "markdown",
   "metadata": {},
   "source": [
    "### Check for any missing values in the data "
   ]
  },
  {
   "cell_type": "code",
   "execution_count": 70,
   "metadata": {
    "scrolled": false
   },
   "outputs": [
    {
     "data": {
      "image/png": "[encoded data removed]",
      "text/plain": [
       "<Figure size 720x360 with 1 Axes>"
      ]
     },
     "metadata": {
      "needs_background": "light"
     },
     "output_type": "display_data"
    }
   ],
   "source": [
    "plt.figure(figsize=(10,5))\n",
    "sns.barplot(class_var.index, class_var.values, alpha=0.8)\n",
    "plt.title('Class Details')\n",
    "plt.ylabel('Number of Occurrences', fontsize=12)\n",
    "plt.xlabel('Class', fontsize=12)\n",
    "plt.show()"
   ]
  },
  {
   "cell_type": "markdown",
   "metadata": {},
   "source": [
    "### 3. Standardize the data "
   ]
  },
  {
   "cell_type": "code",
   "execution_count": 71,
   "metadata": {},
   "outputs": [],
   "source": [
    "x = df.drop(\"class\",axis=1)\n",
    "x_std= x.apply(stats.zscore)"
   ]
  },
  {
   "cell_type": "markdown",
   "metadata": {},
   "source": [
    "Since the dimensions of the data are not really known to us, it would be wise to standardize the data using z scores before we go for any clustering methods.\n",
    "You can use zscore function to do this"
   ]
  },
  {
   "cell_type": "markdown",
   "metadata": {},
   "source": [
    "### K - Means Clustering"
   ]
  },
  {
   "cell_type": "markdown",
   "metadata": {},
   "source": [
    "### 4. Assign a dummy array called distortion"
   ]
  },
  {
   "cell_type": "code",
   "execution_count": 72,
   "metadata": {},
   "outputs": [],
   "source": [
    "distortions = []"
   ]
  },
  {
   "cell_type": "markdown",
   "metadata": {},
   "source": [
    "You can later use this array to plot the elbow plot"
   ]
  },
  {
   "cell_type": "markdown",
   "metadata": {},
   "source": [
    "### 5. Calculating distortion - C distance"
   ]
  },
  {
   "cell_type": "code",
   "execution_count": 73,
   "metadata": {},
   "outputs": [],
   "source": [
    "from scipy.spatial.distance import cdist\n",
    "from sklearn.cluster import KMeans\n",
    "\n",
    "K = range(1,10)\n",
    "for k in K:\n",
    "    kmeanModel = KMeans(n_clusters=k).fit(x_std)\n",
    "    kmeanModel.fit(x_std)\n",
    "    distortions.append(\n",
    "        sum(np.min(cdist(x_std, kmeanModel.cluster_centers_, 'euclidean'), axis=1)) / x_std.shape[0])"
   ]
  },
  {
   "cell_type": "markdown",
   "metadata": {},
   "source": [
    "Iterating values of k from 1 to 10 fit K means model\n",
    "Using c distance - Get the measure for Sum of squares error."
   ]
  },
  {
   "cell_type": "code",
   "execution_count": 74,
   "metadata": {},
   "outputs": [
    {
     "data": {
      "text/plain": [
       "[3.939299196727955,\n",
       " 2.966824380205441,\n",
       " 2.642794199692158,\n",
       " 2.548617081764424,\n",
       " 2.428413485731681,\n",
       " 2.3154854072589997,\n",
       " 2.243196764432613,\n",
       " 2.1778276267829138,\n",
       " 2.1038204417411643]"
      ]
     },
     "execution_count": 74,
     "metadata": {},
     "output_type": "execute_result"
    }
   ],
   "source": [
    "distortions"
   ]
  },
  {
   "cell_type": "markdown",
   "metadata": {},
   "source": [
    "### 6. Plotting Elbow/ Scree Plot"
   ]
  },
  {
   "cell_type": "code",
   "execution_count": 75,
   "metadata": {},
   "outputs": [
    {
     "data": {
      "image/png": "[encoded data removed]",
      "text/plain": [
       "<Figure size 432x288 with 1 Axes>"
      ]
     },
     "metadata": {
      "needs_background": "light"
     },
     "output_type": "display_data"
    }
   ],
   "source": [
    "plt.plot(K, distortions, 'bx-')\n",
    "plt.xlabel('k')\n",
    "plt.ylabel('Distortion')\n",
    "plt.title('The Elbow Method showing the optimal k')\n",
    "plt.show()"
   ]
  },
  {
   "cell_type": "markdown",
   "metadata": {},
   "source": [
    "Use Matplotlib to plot the scree plot - Note: Scree plot plots distortion vs the no of clusters"
   ]
  },
  {
   "cell_type": "markdown",
   "metadata": {},
   "source": [
    "### Find out the optimal value of K"
   ]
  },
  {
   "cell_type": "raw",
   "metadata": {},
   "source": [
    "The optimal value of k will be 8"
   ]
  },
  {
   "cell_type": "markdown",
   "metadata": {},
   "source": [
    "### Using optimal value of K - Cluster the data. \n",
    "Note: Since the data has more than 2 dimension we cannot visualize the data. As an alternative, we can observe the centroids and note how they are distributed across different dimensions"
   ]
  },
  {
   "cell_type": "code",
   "execution_count": 76,
   "metadata": {},
   "outputs": [],
   "source": [
    "kmeans = KMeans(n_clusters=3)"
   ]
  },
  {
   "cell_type": "code",
   "execution_count": 77,
   "metadata": {},
   "outputs": [
    {
     "data": {
      "text/plain": [
       "KMeans(algorithm='auto', copy_x=True, init='k-means++', max_iter=300,\n",
       "    n_clusters=3, n_init=10, n_jobs=1, precompute_distances='auto',\n",
       "    random_state=None, tol=0.0001, verbose=0)"
      ]
     },
     "execution_count": 77,
     "metadata": {},
     "output_type": "execute_result"
    }
   ],
   "source": [
    "kmeans.fit(x_std)"
   ]
  },
  {
   "cell_type": "markdown",
   "metadata": {},
   "source": [
    "You can use kmeans.cluster_centers_ function to pull the centroid information from the instance"
   ]
  },
  {
   "cell_type": "code",
   "execution_count": 78,
   "metadata": {},
   "outputs": [],
   "source": [
    "centers = kmeans.cluster_centers_"
   ]
  },
  {
   "cell_type": "code",
   "execution_count": 79,
   "metadata": {},
   "outputs": [
    {
     "data": {
      "text/plain": [
       "array([[-0.91987072, -0.52009251, -0.89320752, -1.06435572, -0.50042171,\n",
       "        -0.2190738 , -0.7791213 ,  0.86589322, -0.74535635, -0.484632  ,\n",
       "        -0.78240328, -0.78341064, -0.38498232,  0.83878747, -0.09524349,\n",
       "        -0.30171562, -1.05420601, -1.11069466],\n",
       "       [-0.2339617 , -0.57387481, -0.30776905, -0.03041322,  0.2050726 ,\n",
       "        -0.11653151, -0.45904181,  0.32506329, -0.48798836, -0.53604446,\n",
       "        -0.41380935, -0.46366305, -0.60155031, -0.61924057, -0.06177969,\n",
       "         0.01066762,  0.81278556,  0.69897299],\n",
       "       [ 1.13076532,  1.17094237,  1.19500584,  1.01909505,  0.21505188,\n",
       "         0.34250798,  1.27180461, -1.19061224,  1.27548416,  1.09266768,\n",
       "         1.22038121,  1.28132727,  1.07954232, -0.02879497,  0.16229031,\n",
       "         0.26566456, -0.00535553,  0.18380067]])"
      ]
     },
     "execution_count": 79,
     "metadata": {},
     "output_type": "execute_result"
    }
   ],
   "source": [
    "centers"
   ]
  },
  {
   "cell_type": "markdown",
   "metadata": {},
   "source": [
    "### 7. Store the centroids in a dataframe with column names from the original dataset given "
   ]
  },
  {
   "cell_type": "code",
   "execution_count": 80,
   "metadata": {},
   "outputs": [],
   "source": [
    "df_centers = pd.DataFrame(centers, columns= x_std.columns)"
   ]
  },
  {
   "cell_type": "code",
   "execution_count": 81,
   "metadata": {},
   "outputs": [
    {
     "data": {
      "text/html": [
       "<div>\n",
       "<style scoped>\n",
       "    .dataframe tbody tr th:only-of-type {\n",
       "        vertical-align: middle;\n",
       "    }\n",
       "\n",
       "    .dataframe tbody tr th {\n",
       "        vertical-align: top;\n",
       "    }\n",
       "\n",
       "    .dataframe thead th {\n",
       "        text-align: right;\n",
       "    }\n",
       "</style>\n",
       "<table border=\"1\" class=\"dataframe\">\n",
       "  <thead>\n",
       "    <tr style=\"text-align: right;\">\n",
       "      <th></th>\n",
       "      <th>compactness</th>\n",
       "      <th>circularity</th>\n",
       "      <th>distance_circularity</th>\n",
       "      <th>radius_ratio</th>\n",
       "      <th>pr.axis_aspect_ratio</th>\n",
       "      <th>max.length_aspect_ratio</th>\n",
       "      <th>scatter_ratio</th>\n",
       "      <th>elongatedness</th>\n",
       "      <th>pr.axis_rectangularity</th>\n",
       "      <th>max.length_rectangularity</th>\n",
       "      <th>scaled_variance</th>\n",
       "      <th>scaled_variance.1</th>\n",
       "      <th>scaled_radius_of_gyration</th>\n",
       "      <th>scaled_radius_of_gyration.1</th>\n",
       "      <th>skewness_about</th>\n",
       "      <th>skewness_about.1</th>\n",
       "      <th>skewness_about.2</th>\n",
       "      <th>hollows_ratio</th>\n",
       "    </tr>\n",
       "  </thead>\n",
       "  <tbody>\n",
       "    <tr>\n",
       "      <th>0</th>\n",
       "      <td>-0.919871</td>\n",
       "      <td>-0.520093</td>\n",
       "      <td>-0.893208</td>\n",
       "      <td>-1.064356</td>\n",
       "      <td>-0.500422</td>\n",
       "      <td>-0.219074</td>\n",
       "      <td>-0.779121</td>\n",
       "      <td>0.865893</td>\n",
       "      <td>-0.745356</td>\n",
       "      <td>-0.484632</td>\n",
       "      <td>-0.782403</td>\n",
       "      <td>-0.783411</td>\n",
       "      <td>-0.384982</td>\n",
       "      <td>0.838787</td>\n",
       "      <td>-0.095243</td>\n",
       "      <td>-0.301716</td>\n",
       "      <td>-1.054206</td>\n",
       "      <td>-1.110695</td>\n",
       "    </tr>\n",
       "    <tr>\n",
       "      <th>1</th>\n",
       "      <td>-0.233962</td>\n",
       "      <td>-0.573875</td>\n",
       "      <td>-0.307769</td>\n",
       "      <td>-0.030413</td>\n",
       "      <td>0.205073</td>\n",
       "      <td>-0.116532</td>\n",
       "      <td>-0.459042</td>\n",
       "      <td>0.325063</td>\n",
       "      <td>-0.487988</td>\n",
       "      <td>-0.536044</td>\n",
       "      <td>-0.413809</td>\n",
       "      <td>-0.463663</td>\n",
       "      <td>-0.601550</td>\n",
       "      <td>-0.619241</td>\n",
       "      <td>-0.061780</td>\n",
       "      <td>0.010668</td>\n",
       "      <td>0.812786</td>\n",
       "      <td>0.698973</td>\n",
       "    </tr>\n",
       "    <tr>\n",
       "      <th>2</th>\n",
       "      <td>1.130765</td>\n",
       "      <td>1.170942</td>\n",
       "      <td>1.195006</td>\n",
       "      <td>1.019095</td>\n",
       "      <td>0.215052</td>\n",
       "      <td>0.342508</td>\n",
       "      <td>1.271805</td>\n",
       "      <td>-1.190612</td>\n",
       "      <td>1.275484</td>\n",
       "      <td>1.092668</td>\n",
       "      <td>1.220381</td>\n",
       "      <td>1.281327</td>\n",
       "      <td>1.079542</td>\n",
       "      <td>-0.028795</td>\n",
       "      <td>0.162290</td>\n",
       "      <td>0.265665</td>\n",
       "      <td>-0.005356</td>\n",
       "      <td>0.183801</td>\n",
       "    </tr>\n",
       "  </tbody>\n",
       "</table>\n",
       "</div>"
      ],
      "text/plain": [
       "   compactness  circularity  distance_circularity  radius_ratio  \\\n",
       "0    -0.919871    -0.520093             -0.893208     -1.064356   \n",
       "1    -0.233962    -0.573875             -0.307769     -0.030413   \n",
       "2     1.130765     1.170942              1.195006      1.019095   \n",
       "\n",
       "   pr.axis_aspect_ratio  max.length_aspect_ratio  scatter_ratio  \\\n",
       "0             -0.500422                -0.219074      -0.779121   \n",
       "1              0.205073                -0.116532      -0.459042   \n",
       "2              0.215052                 0.342508       1.271805   \n",
       "\n",
       "   elongatedness  pr.axis_rectangularity  max.length_rectangularity  \\\n",
       "0       0.865893               -0.745356                  -0.484632   \n",
       "1       0.325063               -0.487988                  -0.536044   \n",
       "2      -1.190612                1.275484                   1.092668   \n",
       "\n",
       "   scaled_variance  scaled_variance.1  scaled_radius_of_gyration  \\\n",
       "0        -0.782403          -0.783411                  -0.384982   \n",
       "1        -0.413809          -0.463663                  -0.601550   \n",
       "2         1.220381           1.281327                   1.079542   \n",
       "\n",
       "   scaled_radius_of_gyration.1  skewness_about  skewness_about.1  \\\n",
       "0                     0.838787       -0.095243         -0.301716   \n",
       "1                    -0.619241       -0.061780          0.010668   \n",
       "2                    -0.028795        0.162290          0.265665   \n",
       "\n",
       "   skewness_about.2  hollows_ratio  \n",
       "0         -1.054206      -1.110695  \n",
       "1          0.812786       0.698973  \n",
       "2         -0.005356       0.183801  "
      ]
     },
     "execution_count": 81,
     "metadata": {},
     "output_type": "execute_result"
    }
   ],
   "source": [
    "df_centers"
   ]
  },
  {
   "cell_type": "markdown",
   "metadata": {},
   "source": [
    "Hint: Use pd.Dataframe function "
   ]
  },
  {
   "cell_type": "markdown",
   "metadata": {},
   "source": [
    "### Use kmeans.labels_ function to print out the labels of the classes"
   ]
  },
  {
   "cell_type": "code",
   "execution_count": 82,
   "metadata": {},
   "outputs": [
    {
     "data": {
      "text/plain": [
       "array([1, 1, 2, 1, 0, 1, 1, 1, 1, 1, 1, 1, 1, 2, 0, 1, 2, 0, 0, 1, 1, 2,\n",
       "       1, 0, 2, 2, 0, 1, 1, 1, 2, 1, 0, 2, 2, 0, 2, 0, 0, 1, 2, 0, 0, 0,\n",
       "       0, 1, 0, 1, 2, 1, 2, 1, 1, 0, 2, 0, 2, 0, 0, 0, 1, 0, 2, 1, 2, 2,\n",
       "       1, 0, 1, 2, 1, 0, 0, 2, 1, 0, 1, 2, 1, 0, 1, 0, 2, 1, 2, 1, 0, 2,\n",
       "       0, 0, 2, 0, 0, 1, 1, 0, 2, 2, 0, 0, 2, 1, 1, 0, 0, 0, 1, 2, 2, 1,\n",
       "       0, 0, 1, 0, 0, 0, 0, 0, 1, 2, 2, 1, 1, 0, 2, 2, 0, 1, 0, 1, 1, 2,\n",
       "       0, 1, 2, 1, 1, 1, 1, 2, 1, 1, 2, 1, 2, 1, 0, 1, 0, 2, 1, 1, 2, 2,\n",
       "       1, 2, 0, 0, 2, 2, 1, 2, 1, 1, 1, 1, 0, 2, 0, 1, 0, 2, 1, 1, 1, 2,\n",
       "       1, 2, 1, 2, 1, 0, 2, 0, 0, 0, 1, 1, 2, 2, 1, 1, 1, 0, 2, 1, 1, 1,\n",
       "       2, 0, 0, 2, 0, 1, 2, 0, 0, 0, 1, 2, 1, 2, 0, 0, 0, 0, 2, 1, 0, 1,\n",
       "       2, 0, 1, 1, 0, 2, 0, 0, 1, 1, 2, 0, 2, 0, 1, 1, 2, 1, 1, 2, 2, 0,\n",
       "       1, 1, 1, 2, 0, 1, 1, 0, 0, 1, 1, 2, 1, 0, 0, 2, 1, 1, 0, 0, 2, 0,\n",
       "       1, 2, 0, 1, 2, 1, 1, 2, 1, 2, 0, 1, 1, 2, 1, 1, 1, 0, 1, 2, 2, 2,\n",
       "       2, 0, 1, 2, 0, 0, 0, 1, 0, 2, 2, 0, 2, 1, 0, 2, 1, 1, 1, 2, 2, 0,\n",
       "       2, 2, 0, 2, 1, 1, 1, 0, 0, 2, 2, 2, 1, 1, 1, 2, 0, 1, 0, 2, 1, 1,\n",
       "       2, 1, 2, 2, 2, 1, 0, 0, 2, 0, 0, 0, 1, 1, 1, 1, 0, 2, 2, 0, 0, 2,\n",
       "       0, 2, 0, 2, 1, 0, 1, 0, 2, 2, 0, 1, 1, 1, 2, 1, 1, 1, 1, 2, 1, 2,\n",
       "       1, 2, 1, 0, 0, 1, 1, 1, 0, 0, 1, 0, 2, 1, 1, 0, 0, 2, 1, 0, 1, 1,\n",
       "       2, 1, 2, 1, 2, 2, 0, 0, 2, 1, 0, 0, 1, 2, 2, 0, 1, 2, 2, 0, 2, 2,\n",
       "       2, 1, 1, 1, 1, 1, 2, 0, 0, 1, 2, 1, 1, 2, 1, 0, 2, 0, 0, 2, 1, 0,\n",
       "       2, 2, 2, 0, 2, 2, 0, 1, 0, 2, 2, 1, 1, 0, 0, 2, 1, 0, 2, 2, 1, 0,\n",
       "       2, 2, 1, 0, 0, 2, 2, 2, 0, 0, 2, 2, 2, 1, 1, 2, 0, 1, 2, 1, 0, 0,\n",
       "       1, 2, 0, 1, 1, 0, 1, 2, 1, 2, 2, 1, 0, 1, 2, 2, 0, 0, 1, 2, 1, 2,\n",
       "       2, 1, 1, 1, 1, 0, 0, 0, 1, 1, 2, 0, 0, 1, 0, 2, 1, 2, 0, 0, 2, 2,\n",
       "       1, 2, 1, 1, 1, 2, 1, 0, 1, 2, 1, 1, 0, 2, 2, 2, 2, 1, 0, 0, 0, 2,\n",
       "       2, 2, 1, 2, 0, 1, 2, 0, 0, 0, 1, 0, 2, 1, 1, 1, 1, 1, 1, 2, 1, 1,\n",
       "       2, 1, 1, 1, 0, 2, 0, 0, 1, 0, 1, 1, 0, 0, 2, 2, 0, 1, 2, 1, 2, 1,\n",
       "       1, 2, 1, 0, 2, 0, 2, 0, 0, 1, 0, 1, 2, 2, 0, 2, 1, 1, 0, 1, 0, 2,\n",
       "       1, 2, 0, 1, 1, 1, 0, 0, 0, 1, 2, 1, 2, 0, 1, 1, 1, 1, 2, 1, 0, 2,\n",
       "       1, 2, 1, 1, 2, 0, 2, 0, 1, 1, 1, 0, 2, 1, 0, 1, 2, 0, 2, 1, 1, 2,\n",
       "       0, 1, 0, 1, 1, 0, 1, 2, 2, 1, 1, 2, 2, 1, 1, 0, 1, 2, 2, 2, 2, 1,\n",
       "       2, 1, 1, 2, 2, 1, 2, 1, 2, 1, 0, 2, 1, 0, 2, 2, 2, 1, 2, 0, 0, 2,\n",
       "       2, 2, 1, 2, 1, 1, 2, 1, 0, 1, 0, 1, 2, 1, 0, 1, 1, 1, 0, 2, 0, 0,\n",
       "       0, 2, 2, 0, 2, 2, 0, 1, 1, 2, 1, 0, 2, 2, 0, 1, 1, 2, 2, 2, 0, 2,\n",
       "       1, 2, 2, 0, 0, 2, 0, 2, 1, 0, 1, 2, 2, 1, 0, 1, 2, 2, 1, 1, 0, 1,\n",
       "       1, 2, 0, 1, 2, 0, 0, 2, 0, 1, 0, 0, 0, 1, 2, 2, 1, 0, 2, 1, 2, 2,\n",
       "       0, 1, 2, 0, 0, 1, 1, 2, 0, 0, 2, 0, 1, 1, 1, 1, 1, 1, 2, 1, 0])"
      ]
     },
     "execution_count": 82,
     "metadata": {},
     "output_type": "execute_result"
    }
   ],
   "source": [
    "kmeans.labels_"
   ]
  },
  {
   "cell_type": "markdown",
   "metadata": {},
   "source": [
    "## Hierarchical Clustering "
   ]
  },
  {
   "cell_type": "markdown",
   "metadata": {},
   "source": [
    "### 8. Variable creation"
   ]
  },
  {
   "cell_type": "markdown",
   "metadata": {},
   "source": [
    "For Hierarchical clustering, we will create datasets using multivariate normal distribution to visually observe how the clusters are formed at the end"
   ]
  },
  {
   "cell_type": "code",
   "execution_count": 83,
   "metadata": {},
   "outputs": [],
   "source": [
    "a = np.random.multivariate_normal([10, 0], [[3, 1], [1, 4]], size=[100,])\n",
    "b = np.random.multivariate_normal([0, 20], [[3, 1], [1, 4]], size=[50,])\n",
    "c = np.random.multivariate_normal([10, 20], [[3, 1], [1, 4]], size=[100,])"
   ]
  },
  {
   "cell_type": "markdown",
   "metadata": {},
   "source": [
    "### 9. Combine all three arrays a,b,c into a dataframe"
   ]
  },
  {
   "cell_type": "code",
   "execution_count": 84,
   "metadata": {},
   "outputs": [
    {
     "data": {
      "text/plain": [
       "(250, 2)"
      ]
     },
     "execution_count": 84,
     "metadata": {},
     "output_type": "execute_result"
    }
   ],
   "source": [
    "df_hierarchy = np.concatenate((a, b,c),)\n",
    "df_hierarchy.shape"
   ]
  },
  {
   "cell_type": "markdown",
   "metadata": {},
   "source": [
    "### 10. Use scatter matrix to print all the 3 distributions"
   ]
  },
  {
   "cell_type": "code",
   "execution_count": 85,
   "metadata": {},
   "outputs": [
    {
     "data": {
      "text/plain": [
       "<matplotlib.collections.PathCollection at 0xc8daef0>"
      ]
     },
     "execution_count": 85,
     "metadata": {},
     "output_type": "execute_result"
    },
    {
     "data": {
      "image/png": "[encoded data removed]",
      "text/plain": [
       "<Figure size 432x288 with 1 Axes>"
      ]
     },
     "metadata": {
      "needs_background": "light"
     },
     "output_type": "display_data"
    }
   ],
   "source": [
    "plt.scatter(df_hierarchy[:,0], df_hierarchy[:,1])"
   ]
  },
  {
   "cell_type": "markdown",
   "metadata": {},
   "source": [
    "### 11. Find out the linkage matrix"
   ]
  },
  {
   "cell_type": "markdown",
   "metadata": {},
   "source": [
    "Use ward as linkage metric and distance as Eucledian"
   ]
  },
  {
   "cell_type": "code",
   "execution_count": 86,
   "metadata": {},
   "outputs": [
    {
     "data": {
      "text/plain": [
       "array([[2.11000000e+02, 2.17000000e+02, 1.44955162e-02, 2.00000000e+00],\n",
       "       [1.93000000e+02, 2.26000000e+02, 4.62077274e-02, 2.00000000e+00],\n",
       "       [1.90000000e+02, 2.06000000e+02, 8.31275108e-02, 2.00000000e+00],\n",
       "       [1.70000000e+02, 1.85000000e+02, 9.53300524e-02, 2.00000000e+00],\n",
       "       [5.40000000e+01, 7.10000000e+01, 9.83126837e-02, 2.00000000e+00],\n",
       "       [2.24000000e+02, 2.37000000e+02, 1.15941373e-01, 2.00000000e+00],\n",
       "       [5.00000000e+00, 4.80000000e+01, 1.23628824e-01, 2.00000000e+00],\n",
       "       [4.50000000e+01, 5.60000000e+01, 1.25805798e-01, 2.00000000e+00],\n",
       "       [1.14000000e+02, 1.39000000e+02, 1.26783735e-01, 2.00000000e+00],\n",
       "       [1.64000000e+02, 2.01000000e+02, 1.30272915e-01, 2.00000000e+00],\n",
       "       [1.10000000e+02, 1.43000000e+02, 1.37904523e-01, 2.00000000e+00],\n",
       "       [9.00000000e+00, 6.10000000e+01, 1.39235733e-01, 2.00000000e+00],\n",
       "       [1.17000000e+02, 1.23000000e+02, 1.43058593e-01, 2.00000000e+00],\n",
       "       [2.60000000e+01, 3.30000000e+01, 1.51995766e-01, 2.00000000e+00],\n",
       "       [9.80000000e+01, 2.57000000e+02, 1.67519759e-01, 3.00000000e+00],\n",
       "       [6.30000000e+01, 9.00000000e+01, 1.69888494e-01, 2.00000000e+00],\n",
       "       [2.90000000e+01, 3.90000000e+01, 1.73859243e-01, 2.00000000e+00],\n",
       "       [1.63000000e+02, 1.81000000e+02, 1.76204131e-01, 2.00000000e+00],\n",
       "       [1.80000000e+02, 2.40000000e+02, 1.76864410e-01, 2.00000000e+00],\n",
       "       [1.59000000e+02, 2.05000000e+02, 1.92046325e-01, 2.00000000e+00],\n",
       "       [1.84000000e+02, 2.16000000e+02, 2.03071749e-01, 2.00000000e+00],\n",
       "       [4.00000000e+01, 5.30000000e+01, 2.04655906e-01, 2.00000000e+00],\n",
       "       [1.01000000e+02, 1.24000000e+02, 2.05167097e-01, 2.00000000e+00],\n",
       "       [1.77000000e+02, 2.43000000e+02, 2.07945305e-01, 2.00000000e+00],\n",
       "       [5.70000000e+01, 9.10000000e+01, 2.08859771e-01, 2.00000000e+00],\n",
       "       [6.40000000e+01, 6.60000000e+01, 2.10348758e-01, 2.00000000e+00],\n",
       "       [6.00000000e+00, 1.80000000e+01, 2.23417877e-01, 2.00000000e+00],\n",
       "       [1.66000000e+02, 2.42000000e+02, 2.24866232e-01, 2.00000000e+00],\n",
       "       [1.47000000e+02, 1.49000000e+02, 2.28736745e-01, 2.00000000e+00],\n",
       "       [2.20000000e+01, 8.40000000e+01, 2.34787586e-01, 2.00000000e+00],\n",
       "       [5.00000000e+01, 7.30000000e+01, 2.38299924e-01, 2.00000000e+00],\n",
       "       [8.00000000e+00, 7.50000000e+01, 2.41159730e-01, 2.00000000e+00],\n",
       "       [1.82000000e+02, 2.32000000e+02, 2.43259212e-01, 2.00000000e+00],\n",
       "       [2.30000000e+01, 6.70000000e+01, 2.47573371e-01, 2.00000000e+00],\n",
       "       [1.41000000e+02, 1.42000000e+02, 2.49830829e-01, 2.00000000e+00],\n",
       "       [1.10000000e+01, 6.50000000e+01, 2.52413168e-01, 2.00000000e+00],\n",
       "       [1.95000000e+02, 2.14000000e+02, 2.53635625e-01, 2.00000000e+00],\n",
       "       [1.26000000e+02, 1.44000000e+02, 2.53707639e-01, 2.00000000e+00],\n",
       "       [7.00000000e+00, 4.60000000e+01, 2.55213851e-01, 2.00000000e+00],\n",
       "       [3.00000000e+00, 7.20000000e+01, 2.69719122e-01, 2.00000000e+00],\n",
       "       [8.20000000e+01, 2.65000000e+02, 2.75462139e-01, 3.00000000e+00],\n",
       "       [1.90000000e+01, 8.80000000e+01, 2.77446568e-01, 2.00000000e+00],\n",
       "       [1.58000000e+02, 1.62000000e+02, 2.78661880e-01, 2.00000000e+00],\n",
       "       [2.25000000e+02, 2.47000000e+02, 2.81378860e-01, 2.00000000e+00],\n",
       "       [2.40000000e+01, 4.90000000e+01, 2.91412761e-01, 2.00000000e+00],\n",
       "       [2.80000000e+01, 8.00000000e+01, 2.91512613e-01, 2.00000000e+00],\n",
       "       [2.41000000e+02, 2.70000000e+02, 2.94677547e-01, 3.00000000e+00],\n",
       "       [1.72000000e+02, 2.38000000e+02, 2.95667804e-01, 2.00000000e+00],\n",
       "       [2.23000000e+02, 2.52000000e+02, 2.96127007e-01, 3.00000000e+00],\n",
       "       [3.10000000e+01, 3.80000000e+01, 2.97423421e-01, 2.00000000e+00],\n",
       "       [1.78000000e+02, 2.45000000e+02, 2.98102615e-01, 2.00000000e+00],\n",
       "       [1.30000000e+01, 8.70000000e+01, 3.04724814e-01, 2.00000000e+00],\n",
       "       [1.05000000e+02, 1.36000000e+02, 3.06386546e-01, 2.00000000e+00],\n",
       "       [1.57000000e+02, 2.19000000e+02, 3.16090232e-01, 2.00000000e+00],\n",
       "       [2.44000000e+02, 2.46000000e+02, 3.24776921e-01, 2.00000000e+00],\n",
       "       [4.00000000e+00, 9.40000000e+01, 3.31574952e-01, 2.00000000e+00],\n",
       "       [2.00000000e+01, 3.40000000e+01, 3.33599886e-01, 2.00000000e+00],\n",
       "       [1.91000000e+02, 2.48000000e+02, 3.41087586e-01, 2.00000000e+00],\n",
       "       [2.70000000e+01, 5.80000000e+01, 3.46951473e-01, 2.00000000e+00],\n",
       "       [7.00000000e+01, 2.56000000e+02, 3.48309094e-01, 3.00000000e+00],\n",
       "       [4.30000000e+01, 5.50000000e+01, 3.50136527e-01, 2.00000000e+00],\n",
       "       [1.67000000e+02, 2.69000000e+02, 3.52801342e-01, 3.00000000e+00],\n",
       "       [1.96000000e+02, 2.97000000e+02, 3.58784715e-01, 3.00000000e+00],\n",
       "       [1.50000000e+01, 3.06000000e+02, 3.59957630e-01, 3.00000000e+00],\n",
       "       [0.00000000e+00, 8.50000000e+01, 3.62062769e-01, 2.00000000e+00],\n",
       "       [1.27000000e+02, 2.78000000e+02, 3.63142402e-01, 3.00000000e+00],\n",
       "       [1.97000000e+02, 2.93000000e+02, 3.67347598e-01, 3.00000000e+00],\n",
       "       [1.38000000e+02, 2.60000000e+02, 3.99317661e-01, 3.00000000e+00],\n",
       "       [3.70000000e+01, 6.20000000e+01, 4.01090495e-01, 2.00000000e+00],\n",
       "       [1.03000000e+02, 1.30000000e+02, 4.02827499e-01, 2.00000000e+00],\n",
       "       [2.07000000e+02, 2.50000000e+02, 4.04066767e-01, 3.00000000e+00],\n",
       "       [9.70000000e+01, 2.91000000e+02, 4.04137520e-01, 3.00000000e+00],\n",
       "       [4.10000000e+01, 2.79000000e+02, 4.13332239e-01, 3.00000000e+00],\n",
       "       [1.50000000e+02, 2.13000000e+02, 4.15685487e-01, 2.00000000e+00],\n",
       "       [7.40000000e+01, 7.80000000e+01, 4.16229258e-01, 2.00000000e+00],\n",
       "       [3.50000000e+01, 2.63000000e+02, 4.17198602e-01, 3.00000000e+00],\n",
       "       [2.00000000e+02, 2.02000000e+02, 4.27500037e-01, 2.00000000e+00],\n",
       "       [7.60000000e+01, 2.64000000e+02, 4.42129036e-01, 4.00000000e+00],\n",
       "       [2.18000000e+02, 2.96000000e+02, 4.44309373e-01, 4.00000000e+00],\n",
       "       [1.74000000e+02, 1.88000000e+02, 4.48301225e-01, 2.00000000e+00],\n",
       "       [2.03000000e+02, 2.04000000e+02, 4.48650349e-01, 2.00000000e+00],\n",
       "       [1.12000000e+02, 1.31000000e+02, 4.55205770e-01, 2.00000000e+00],\n",
       "       [1.71000000e+02, 1.83000000e+02, 4.60669801e-01, 2.00000000e+00],\n",
       "       [1.16000000e+02, 2.87000000e+02, 4.64052537e-01, 3.00000000e+00],\n",
       "       [4.20000000e+01, 2.85000000e+02, 4.72392169e-01, 3.00000000e+00],\n",
       "       [1.65000000e+02, 3.04000000e+02, 4.75191396e-01, 3.00000000e+00],\n",
       "       [1.18000000e+02, 1.35000000e+02, 4.86383013e-01, 2.00000000e+00],\n",
       "       [1.55000000e+02, 2.51000000e+02, 4.88481092e-01, 3.00000000e+00],\n",
       "       [2.30000000e+02, 2.31000000e+02, 5.02267293e-01, 2.00000000e+00],\n",
       "       [1.40000000e+01, 2.95000000e+02, 5.06320316e-01, 3.00000000e+00],\n",
       "       [1.52000000e+02, 2.73000000e+02, 5.07661370e-01, 3.00000000e+00],\n",
       "       [1.04000000e+02, 1.46000000e+02, 5.14975328e-01, 2.00000000e+00],\n",
       "       [1.69000000e+02, 1.86000000e+02, 5.21481059e-01, 2.00000000e+00],\n",
       "       [1.99000000e+02, 2.22000000e+02, 5.22445933e-01, 2.00000000e+00],\n",
       "       [1.20000000e+01, 8.60000000e+01, 5.29705518e-01, 2.00000000e+00],\n",
       "       [5.20000000e+01, 8.90000000e+01, 5.31412383e-01, 2.00000000e+00],\n",
       "       [2.59000000e+02, 2.98000000e+02, 5.46752477e-01, 5.00000000e+00],\n",
       "       [7.70000000e+01, 2.90000000e+02, 5.49810439e-01, 4.00000000e+00],\n",
       "       [1.68000000e+02, 3.30000000e+02, 5.50645147e-01, 3.00000000e+00],\n",
       "       [2.00000000e+00, 3.00000000e+01, 5.54168124e-01, 2.00000000e+00],\n",
       "       [2.29000000e+02, 3.40000000e+02, 5.60513595e-01, 4.00000000e+00],\n",
       "       [1.28000000e+02, 1.34000000e+02, 5.62221019e-01, 2.00000000e+00],\n",
       "       [1.20000000e+02, 1.25000000e+02, 5.64139816e-01, 2.00000000e+00],\n",
       "       [1.54000000e+02, 1.61000000e+02, 5.66988037e-01, 2.00000000e+00],\n",
       "       [4.40000000e+01, 3.01000000e+02, 5.68234073e-01, 3.00000000e+00],\n",
       "       [1.06000000e+02, 1.07000000e+02, 5.78323061e-01, 2.00000000e+00],\n",
       "       [1.51000000e+02, 2.53000000e+02, 5.80059037e-01, 3.00000000e+00],\n",
       "       [1.94000000e+02, 1.98000000e+02, 5.82042933e-01, 2.00000000e+00],\n",
       "       [1.79000000e+02, 2.12000000e+02, 5.83702584e-01, 2.00000000e+00],\n",
       "       [1.09000000e+02, 1.15000000e+02, 5.96717966e-01, 2.00000000e+00],\n",
       "       [6.90000000e+01, 8.30000000e+01, 6.11145040e-01, 2.00000000e+00],\n",
       "       [1.87000000e+02, 2.86000000e+02, 6.20564358e-01, 3.00000000e+00],\n",
       "       [7.90000000e+01, 3.39000000e+02, 6.32444657e-01, 4.00000000e+00],\n",
       "       [2.76000000e+02, 3.14000000e+02, 6.58498811e-01, 4.00000000e+00],\n",
       "       [2.80000000e+02, 3.09000000e+02, 6.78790493e-01, 5.00000000e+00],\n",
       "       [6.00000000e+01, 3.21000000e+02, 6.87550609e-01, 4.00000000e+00],\n",
       "       [2.81000000e+02, 3.22000000e+02, 6.89685339e-01, 5.00000000e+00],\n",
       "       [1.02000000e+02, 1.45000000e+02, 6.89707484e-01, 2.00000000e+00],\n",
       "       [2.92000000e+02, 3.57000000e+02, 7.00249288e-01, 4.00000000e+00],\n",
       "       [1.08000000e+02, 3.59000000e+02, 7.02280720e-01, 3.00000000e+00],\n",
       "       [2.68000000e+02, 3.46000000e+02, 7.03928866e-01, 7.00000000e+00],\n",
       "       [2.71000000e+02, 2.88000000e+02, 7.14965159e-01, 4.00000000e+00],\n",
       "       [1.56000000e+02, 3.23000000e+02, 7.16768996e-01, 3.00000000e+00],\n",
       "       [2.82000000e+02, 3.32000000e+02, 7.24029301e-01, 4.00000000e+00],\n",
       "       [2.20000000e+02, 2.35000000e+02, 7.29134877e-01, 2.00000000e+00],\n",
       "       [2.66000000e+02, 3.60000000e+02, 7.47089529e-01, 4.00000000e+00],\n",
       "       [2.58000000e+02, 2.84000000e+02, 7.56757580e-01, 4.00000000e+00],\n",
       "       [2.62000000e+02, 3.15000000e+02, 7.56894791e-01, 5.00000000e+00],\n",
       "       [9.60000000e+01, 3.49000000e+02, 7.71411743e-01, 3.00000000e+00],\n",
       "       [4.70000000e+01, 2.83000000e+02, 7.92219344e-01, 3.00000000e+00],\n",
       "       [2.49000000e+02, 3.00000000e+02, 8.00265224e-01, 3.00000000e+00],\n",
       "       [2.10000000e+01, 3.65000000e+02, 8.22579333e-01, 5.00000000e+00],\n",
       "       [9.30000000e+01, 3.10000000e+02, 8.36963662e-01, 3.00000000e+00],\n",
       "       [2.54000000e+02, 3.13000000e+02, 8.41033508e-01, 5.00000000e+00],\n",
       "       [1.89000000e+02, 3.20000000e+02, 8.41229517e-01, 4.00000000e+00],\n",
       "       [3.25000000e+02, 3.64000000e+02, 8.50271494e-01, 8.00000000e+00],\n",
       "       [3.03000000e+02, 3.29000000e+02, 8.60921567e-01, 4.00000000e+00],\n",
       "       [1.00000000e+01, 3.20000000e+01, 8.62555444e-01, 2.00000000e+00],\n",
       "       [2.33000000e+02, 3.28000000e+02, 8.78993216e-01, 5.00000000e+00],\n",
       "       [6.80000000e+01, 9.50000000e+01, 8.81440316e-01, 2.00000000e+00],\n",
       "       [3.11000000e+02, 3.73000000e+02, 8.83287290e-01, 7.00000000e+00],\n",
       "       [3.60000000e+01, 2.74000000e+02, 9.14626162e-01, 3.00000000e+00],\n",
       "       [1.40000000e+02, 3.17000000e+02, 9.30429079e-01, 4.00000000e+00],\n",
       "       [1.00000000e+02, 1.21000000e+02, 9.32851076e-01, 2.00000000e+00],\n",
       "       [1.73000000e+02, 3.61000000e+02, 9.35212938e-01, 4.00000000e+00],\n",
       "       [2.50000000e+01, 5.90000000e+01, 9.47940608e-01, 2.00000000e+00],\n",
       "       [2.08000000e+02, 2.67000000e+02, 9.48344782e-01, 3.00000000e+00],\n",
       "       [3.07000000e+02, 3.94000000e+02, 9.61008999e-01, 6.00000000e+00],\n",
       "       [1.53000000e+02, 2.15000000e+02, 9.65942741e-01, 2.00000000e+00],\n",
       "       [8.10000000e+01, 3.63000000e+02, 9.83491971e-01, 5.00000000e+00],\n",
       "       [3.24000000e+02, 3.34000000e+02, 9.87680771e-01, 5.00000000e+00],\n",
       "       [1.60000000e+01, 1.70000000e+01, 1.00742436e+00, 2.00000000e+00],\n",
       "       [2.55000000e+02, 2.77000000e+02, 1.02435699e+00, 4.00000000e+00],\n",
       "       [2.10000000e+02, 3.48000000e+02, 1.04202064e+00, 4.00000000e+00],\n",
       "       [1.29000000e+02, 3.67000000e+02, 1.04371017e+00, 3.00000000e+00],\n",
       "       [2.27000000e+02, 3.84000000e+02, 1.06929123e+00, 5.00000000e+00],\n",
       "       [1.11000000e+02, 3.41000000e+02, 1.07559642e+00, 3.00000000e+00],\n",
       "       [1.19000000e+02, 1.37000000e+02, 1.07686336e+00, 2.00000000e+00],\n",
       "       [2.21000000e+02, 3.43000000e+02, 1.10311359e+00, 3.00000000e+00],\n",
       "       [3.16000000e+02, 3.42000000e+02, 1.11456346e+00, 5.00000000e+00],\n",
       "       [3.05000000e+02, 4.00000000e+02, 1.11560812e+00, 7.00000000e+00],\n",
       "       [3.50000000e+02, 3.80000000e+02, 1.11612111e+00, 7.00000000e+00],\n",
       "       [1.92000000e+02, 2.09000000e+02, 1.18039407e+00, 2.00000000e+00],\n",
       "       [1.00000000e+00, 3.79000000e+02, 1.18835556e+00, 4.00000000e+00],\n",
       "       [9.20000000e+01, 2.75000000e+02, 1.20792867e+00, 3.00000000e+00],\n",
       "       [2.72000000e+02, 3.76000000e+02, 1.21455530e+00, 6.00000000e+00],\n",
       "       [1.33000000e+02, 3.52000000e+02, 1.21620908e+00, 3.00000000e+00],\n",
       "       [1.75000000e+02, 4.12000000e+02, 1.25086402e+00, 3.00000000e+00],\n",
       "       [3.44000000e+02, 3.66000000e+02, 1.25356502e+00, 7.00000000e+00],\n",
       "       [3.47000000e+02, 3.54000000e+02, 1.29400637e+00, 7.00000000e+00],\n",
       "       [3.12000000e+02, 4.03000000e+02, 1.30008118e+00, 7.00000000e+00],\n",
       "       [3.08000000e+02, 3.99000000e+02, 1.35938519e+00, 7.00000000e+00],\n",
       "       [3.02000000e+02, 3.51000000e+02, 1.40773922e+00, 4.00000000e+00],\n",
       "       [2.39000000e+02, 3.72000000e+02, 1.41277961e+00, 4.00000000e+00],\n",
       "       [2.94000000e+02, 3.45000000e+02, 1.42527351e+00, 4.00000000e+00],\n",
       "       [3.33000000e+02, 3.69000000e+02, 1.42725746e+00, 6.00000000e+00],\n",
       "       [3.35000000e+02, 3.58000000e+02, 1.50858261e+00, 5.00000000e+00],\n",
       "       [9.90000000e+01, 3.87000000e+02, 1.63368430e+00, 3.00000000e+00],\n",
       "       [3.55000000e+02, 3.92000000e+02, 1.64203055e+00, 6.00000000e+00],\n",
       "       [3.56000000e+02, 3.98000000e+02, 1.66817163e+00, 5.00000000e+00],\n",
       "       [3.37000000e+02, 3.53000000e+02, 1.68640405e+00, 5.00000000e+00],\n",
       "       [3.75000000e+02, 3.91000000e+02, 1.68710865e+00, 7.00000000e+00],\n",
       "       [3.68000000e+02, 4.02000000e+02, 1.69670849e+00, 8.00000000e+00],\n",
       "       [2.99000000e+02, 4.31000000e+02, 1.74668628e+00, 9.00000000e+00],\n",
       "       [3.27000000e+02, 3.62000000e+02, 1.79829182e+00, 8.00000000e+00],\n",
       "       [1.13000000e+02, 4.15000000e+02, 1.88356900e+00, 7.00000000e+00],\n",
       "       [3.89000000e+02, 4.24000000e+02, 1.90766225e+00, 6.00000000e+00],\n",
       "       [3.31000000e+02, 4.25000000e+02, 1.92029104e+00, 8.00000000e+00],\n",
       "       [3.86000000e+02, 4.30000000e+02, 1.98537530e+00, 9.00000000e+00],\n",
       "       [3.38000000e+02, 4.05000000e+02, 2.00250452e+00, 7.00000000e+00],\n",
       "       [3.36000000e+02, 3.77000000e+02, 2.01008370e+00, 7.00000000e+00],\n",
       "       [4.07000000e+02, 4.22000000e+02, 2.01770457e+00, 6.00000000e+00],\n",
       "       [1.76000000e+02, 2.34000000e+02, 2.02679750e+00, 2.00000000e+00],\n",
       "       [3.18000000e+02, 4.01000000e+02, 2.03403243e+00, 4.00000000e+00],\n",
       "       [3.26000000e+02, 3.74000000e+02, 2.06966815e+00, 4.00000000e+00],\n",
       "       [2.36000000e+02, 4.26000000e+02, 2.14526092e+00, 6.00000000e+00],\n",
       "       [3.93000000e+02, 4.06000000e+02, 2.21785329e+00, 5.00000000e+00],\n",
       "       [3.95000000e+02, 4.13000000e+02, 2.21836349e+00, 6.00000000e+00],\n",
       "       [5.10000000e+01, 2.61000000e+02, 2.27922850e+00, 3.00000000e+00],\n",
       "       [1.48000000e+02, 3.19000000e+02, 2.35422640e+00, 3.00000000e+00],\n",
       "       [1.32000000e+02, 4.04000000e+02, 2.48174875e+00, 4.00000000e+00],\n",
       "       [3.88000000e+02, 4.08000000e+02, 2.49712697e+00, 8.00000000e+00],\n",
       "       [3.83000000e+02, 3.85000000e+02, 2.59086552e+00, 1.30000000e+01],\n",
       "       [3.82000000e+02, 4.36000000e+02, 2.61766059e+00, 9.00000000e+00],\n",
       "       [3.70000000e+02, 4.20000000e+02, 2.65899934e+00, 1.40000000e+01],\n",
       "       [2.28000000e+02, 4.17000000e+02, 2.78494964e+00, 4.00000000e+00],\n",
       "       [3.81000000e+02, 4.19000000e+02, 2.79012584e+00, 1.20000000e+01],\n",
       "       [3.90000000e+02, 4.29000000e+02, 2.98976812e+00, 1.20000000e+01],\n",
       "       [3.71000000e+02, 4.18000000e+02, 2.99774234e+00, 1.10000000e+01],\n",
       "       [3.78000000e+02, 4.47000000e+02, 3.19330671e+00, 9.00000000e+00],\n",
       "       [1.60000000e+02, 3.96000000e+02, 3.20418287e+00, 4.00000000e+00],\n",
       "       [4.23000000e+02, 4.45000000e+02, 3.44825297e+00, 1.00000000e+01],\n",
       "       [4.10000000e+02, 4.14000000e+02, 3.58634322e+00, 1.00000000e+01],\n",
       "       [4.09000000e+02, 4.57000000e+02, 3.59230416e+00, 1.70000000e+01],\n",
       "       [4.28000000e+02, 4.37000000e+02, 3.62898425e+00, 1.40000000e+01],\n",
       "       [4.11000000e+02, 4.54000000e+02, 3.67468550e+00, 2.10000000e+01],\n",
       "       [4.32000000e+02, 4.44000000e+02, 3.69184818e+00, 1.20000000e+01],\n",
       "       [2.89000000e+02, 4.33000000e+02, 3.70158563e+00, 1.10000000e+01],\n",
       "       [4.42000000e+02, 4.55000000e+02, 3.85633506e+00, 6.00000000e+00],\n",
       "       [4.21000000e+02, 4.34000000e+02, 3.90411866e+00, 1.50000000e+01],\n",
       "       [3.97000000e+02, 4.51000000e+02, 3.95348103e+00, 1.40000000e+01],\n",
       "       [4.16000000e+02, 4.50000000e+02, 4.06048161e+00, 7.00000000e+00],\n",
       "       [4.41000000e+02, 4.49000000e+02, 4.06123251e+00, 9.00000000e+00],\n",
       "       [4.27000000e+02, 4.52000000e+02, 4.07534296e+00, 1.60000000e+01],\n",
       "       [4.39000000e+02, 4.60000000e+02, 4.08687010e+00, 1.10000000e+01],\n",
       "       [4.43000000e+02, 4.62000000e+02, 4.72562832e+00, 1.40000000e+01],\n",
       "       [4.48000000e+02, 4.58000000e+02, 4.76653651e+00, 1.40000000e+01],\n",
       "       [4.56000000e+02, 4.76000000e+02, 5.11404448e+00, 2.60000000e+01],\n",
       "       [4.38000000e+02, 4.66000000e+02, 5.28104368e+00, 2.10000000e+01],\n",
       "       [4.40000000e+02, 4.72000000e+02, 5.47151375e+00, 1.60000000e+01],\n",
       "       [4.53000000e+02, 4.69000000e+02, 5.55178401e+00, 2.40000000e+01],\n",
       "       [4.35000000e+02, 4.46000000e+02, 5.63712288e+00, 1.20000000e+01],\n",
       "       [4.64000000e+02, 4.71000000e+02, 6.77785426e+00, 2.10000000e+01],\n",
       "       [4.63000000e+02, 4.70000000e+02, 7.81872906e+00, 3.10000000e+01],\n",
       "       [4.59000000e+02, 4.80000000e+02, 7.86415950e+00, 3.30000000e+01],\n",
       "       [4.65000000e+02, 4.74000000e+02, 8.04051023e+00, 3.20000000e+01],\n",
       "       [4.67000000e+02, 4.75000000e+02, 8.68827724e+00, 2.50000000e+01],\n",
       "       [4.79000000e+02, 4.81000000e+02, 9.25550300e+00, 2.80000000e+01],\n",
       "       [4.68000000e+02, 4.83000000e+02, 9.47820038e+00, 3.70000000e+01],\n",
       "       [1.22000000e+02, 4.82000000e+02, 9.64587379e+00, 2.20000000e+01],\n",
       "       [4.61000000e+02, 4.78000000e+02, 1.13881977e+01, 3.10000000e+01],\n",
       "       [4.73000000e+02, 4.77000000e+02, 1.18111443e+01, 4.20000000e+01],\n",
       "       [4.86000000e+02, 4.91000000e+02, 1.39921646e+01, 6.70000000e+01],\n",
       "       [4.87000000e+02, 4.89000000e+02, 1.57759810e+01, 5.00000000e+01],\n",
       "       [4.85000000e+02, 4.90000000e+02, 1.66438768e+01, 6.30000000e+01],\n",
       "       [4.88000000e+02, 4.94000000e+02, 2.33290214e+01, 1.00000000e+02],\n",
       "       [4.84000000e+02, 4.92000000e+02, 2.36327354e+01, 1.00000000e+02],\n",
       "       [4.93000000e+02, 4.95000000e+02, 8.12016933e+01, 1.50000000e+02],\n",
       "       [4.96000000e+02, 4.97000000e+02, 2.22204709e+02, 2.50000000e+02]])"
      ]
     },
     "execution_count": 86,
     "metadata": {},
     "output_type": "execute_result"
    }
   ],
   "source": [
    "from scipy.cluster.hierarchy import dendrogram, linkage\n",
    "Z = linkage(df_hierarchy, 'ward', metric='euclidean')\n",
    "Z"
   ]
  },
  {
   "cell_type": "markdown",
   "metadata": {},
   "source": [
    "### 12. Plot the dendrogram for the consolidated dataframe"
   ]
  },
  {
   "cell_type": "code",
   "execution_count": 87,
   "metadata": {},
   "outputs": [
    {
     "data": {
      "image/png": "[encoded data removed]",
      "text/plain": [
       "<Figure size 1800x720 with 1 Axes>"
      ]
     },
     "metadata": {
      "needs_background": "light"
     },
     "output_type": "display_data"
    }
   ],
   "source": [
    "plt.figure(figsize=(25, 10))\n",
    "plt.title('Hierarchical Clustering Dendrogram')\n",
    "plt.xlabel('sample index')\n",
    "plt.ylabel('distance')\n",
    "dendrogram(\n",
    "    Z,\n",
    "    leaf_rotation=90.,  # rotates the x axis labels\n",
    "    leaf_font_size=8.,  # font size for the x axis labels\n",
    ")\n",
    "plt.show()"
   ]
  },
  {
   "cell_type": "markdown",
   "metadata": {},
   "source": [
    "### 13. Recreate the dendrogram for last 12 merged clusters "
   ]
  },
  {
   "cell_type": "markdown",
   "metadata": {},
   "source": [
    "Hint: Use truncate_mode='lastp' attribute in dendrogram function to arrive at dendrogram "
   ]
  },
  {
   "cell_type": "code",
   "execution_count": 88,
   "metadata": {},
   "outputs": [
    {
     "data": {
      "image/png": "[encoded data removed]",
      "text/plain": [
       "<Figure size 432x288 with 1 Axes>"
      ]
     },
     "metadata": {
      "needs_background": "light"
     },
     "output_type": "display_data"
    }
   ],
   "source": [
    "plt.title('Hierarchical Clustering Dendrogram (truncated)')\n",
    "plt.xlabel('sample index or (cluster size)')\n",
    "plt.ylabel('distance')\n",
    "dendrogram(\n",
    "    Z,\n",
    "    truncate_mode='lastp',  # show only the last p merged clusters\n",
    "    p=12,  # show only the last p merged clusters\n",
    "    leaf_rotation=90.,\n",
    "    leaf_font_size=12.,\n",
    ")\n",
    "plt.show()"
   ]
  },
  {
   "cell_type": "markdown",
   "metadata": {},
   "source": [
    "### 14. From the truncated dendrogram, find out the optimal distance between clusters which u want to use an input for clustering data"
   ]
  },
  {
   "cell_type": "raw",
   "metadata": {},
   "source": [
    "Optimal  distance will be 50 as jump is huge after that"
   ]
  },
  {
   "cell_type": "markdown",
   "metadata": {},
   "source": [
    "### 15. Using this distance measure and fcluster function to cluster the data into 3 different groups"
   ]
  },
  {
   "cell_type": "code",
   "execution_count": 89,
   "metadata": {},
   "outputs": [
    {
     "data": {
      "text/plain": [
       "array([1, 1, 1, 1, 1, 1, 1, 1, 1, 1, 1, 1, 1, 1, 1, 1, 1, 1, 1, 1, 1, 1,\n",
       "       1, 1, 1, 1, 1, 1, 1, 1, 1, 1, 1, 1, 1, 1, 1, 1, 1, 1, 1, 1, 1, 1,\n",
       "       1, 1, 1, 1, 1, 1, 1, 1, 1, 1, 1, 1, 1, 1, 1, 1, 1, 1, 1, 1, 1, 1,\n",
       "       1, 1, 1, 1, 1, 1, 1, 1, 1, 1, 1, 1, 1, 1, 1, 1, 1, 1, 1, 1, 1, 1,\n",
       "       1, 1, 1, 1, 1, 1, 1, 1, 1, 1, 1, 1, 2, 2, 2, 2, 2, 2, 2, 2, 2, 2,\n",
       "       2, 2, 2, 2, 2, 2, 2, 2, 2, 2, 2, 2, 2, 2, 2, 2, 2, 2, 2, 2, 2, 2,\n",
       "       2, 2, 2, 2, 2, 2, 2, 2, 2, 2, 2, 2, 2, 2, 2, 2, 2, 2, 3, 3, 3, 3,\n",
       "       3, 3, 3, 3, 3, 3, 3, 3, 3, 3, 3, 3, 3, 3, 3, 3, 3, 3, 3, 3, 3, 3,\n",
       "       3, 3, 3, 3, 3, 3, 3, 3, 3, 3, 3, 3, 3, 3, 3, 3, 3, 3, 3, 3, 3, 3,\n",
       "       3, 3, 3, 3, 3, 3, 3, 3, 3, 3, 3, 3, 3, 3, 3, 3, 3, 3, 3, 3, 3, 3,\n",
       "       3, 3, 3, 3, 3, 3, 3, 3, 3, 3, 3, 3, 3, 3, 3, 3, 3, 3, 3, 3, 3, 3,\n",
       "       3, 3, 3, 3, 3, 3, 3, 3], dtype=int32)"
      ]
     },
     "execution_count": 89,
     "metadata": {},
     "output_type": "execute_result"
    }
   ],
   "source": [
    "from scipy.cluster.hierarchy import fcluster\n",
    "max_d = 50\n",
    "clusters = fcluster(Z, max_d, criterion='distance')\n",
    "clusters"
   ]
  },
  {
   "cell_type": "markdown",
   "metadata": {},
   "source": [
    "### Use matplotlib to visually observe the clusters in 2D space "
   ]
  },
  {
   "cell_type": "code",
   "execution_count": 55,
   "metadata": {},
   "outputs": [
    {
     "data": {
      "image/png": "[encoded data removed]",
      "text/plain": [
       "<Figure size 720x576 with 1 Axes>"
      ]
     },
     "metadata": {
      "needs_background": "light"
     },
     "output_type": "display_data"
    }
   ],
   "source": [
    "plt.figure(figsize=(10, 8))\n",
    "plt.scatter(X[:,0], X[:,1], c=clusters, cmap='prism')  # plot points with cluster dependent colors\n",
    "plt.show()"
   ]
  }
 ],
 "metadata": {
  "kernelspec": {
   "display_name": "Python 3",
   "language": "python",
   "name": "python3"
  },
  "language_info": {
   "codemirror_mode": {
    "name": "ipython",
    "version": 3
   },
   "file_extension": ".py",
   "mimetype": "text/x-python",
   "name": "python",
   "nbconvert_exporter": "python",
   "pygments_lexer": "ipython3",
   "version": "3.7.0"
  }
 },
 "nbformat": 4,
 "nbformat_minor": 2
}
