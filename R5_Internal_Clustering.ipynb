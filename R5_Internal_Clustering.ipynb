{
 "cells": [
  {
   "cell_type": "markdown",
   "metadata": {},
   "source": [
    "### The data set has information about features of silhouette extracted from the images of different cars\n",
    "\n",
    "Four \"Corgie\" model vehicles were used for the experiment: a double decker bus, Cheverolet van, Saab 9000 and an Opel Manta 400 cars. This particular combination of vehicles was chosen with the expectation that the bus, van and either one of the cars would be readily distinguishable, but it would be more difficult to distinguish between the cars.\n",
    "\n"
   ]
  },
  {
   "cell_type": "code",
   "execution_count": 91,
   "metadata": {},
   "outputs": [],
   "source": [
    "import numpy as np\n",
    "import pandas as pd\n",
    "import matplotlib.pyplot as plt\n",
    "%matplotlib inline\n",
    "import seaborn as sns\n",
    "from scipy import stats"
   ]
  },
  {
   "cell_type": "markdown",
   "metadata": {},
   "source": [
    "### 1. Read the dataset using function .dropna() - to avoid dealing with NAs as of now"
   ]
  },
  {
   "cell_type": "code",
   "execution_count": 92,
   "metadata": {},
   "outputs": [],
   "source": [
    "df = pd.read_csv(\"vehicle.csv\")\n",
    "df.dropna(inplace=True)"
   ]
  },
  {
   "cell_type": "code",
   "execution_count": 93,
   "metadata": {},
   "outputs": [
    {
     "data": {
      "text/html": [
       "<div>\n",
       "<style scoped>\n",
       "    .dataframe tbody tr th:only-of-type {\n",
       "        vertical-align: middle;\n",
       "    }\n",
       "\n",
       "    .dataframe tbody tr th {\n",
       "        vertical-align: top;\n",
       "    }\n",
       "\n",
       "    .dataframe thead th {\n",
       "        text-align: right;\n",
       "    }\n",
       "</style>\n",
       "<table border=\"1\" class=\"dataframe\">\n",
       "  <thead>\n",
       "    <tr style=\"text-align: right;\">\n",
       "      <th></th>\n",
       "      <th>compactness</th>\n",
       "      <th>circularity</th>\n",
       "      <th>distance_circularity</th>\n",
       "      <th>radius_ratio</th>\n",
       "      <th>pr.axis_aspect_ratio</th>\n",
       "      <th>max.length_aspect_ratio</th>\n",
       "      <th>scatter_ratio</th>\n",
       "      <th>elongatedness</th>\n",
       "      <th>pr.axis_rectangularity</th>\n",
       "      <th>max.length_rectangularity</th>\n",
       "      <th>scaled_variance</th>\n",
       "      <th>scaled_variance.1</th>\n",
       "      <th>scaled_radius_of_gyration</th>\n",
       "      <th>scaled_radius_of_gyration.1</th>\n",
       "      <th>skewness_about</th>\n",
       "      <th>skewness_about.1</th>\n",
       "      <th>skewness_about.2</th>\n",
       "      <th>hollows_ratio</th>\n",
       "      <th>class</th>\n",
       "    </tr>\n",
       "  </thead>\n",
       "  <tbody>\n",
       "    <tr>\n",
       "      <th>560</th>\n",
       "      <td>105</td>\n",
       "      <td>55.0</td>\n",
       "      <td>96.0</td>\n",
       "      <td>181.0</td>\n",
       "      <td>56.0</td>\n",
       "      <td>9</td>\n",
       "      <td>219.0</td>\n",
       "      <td>30.0</td>\n",
       "      <td>25.0</td>\n",
       "      <td>175</td>\n",
       "      <td>231.0</td>\n",
       "      <td>713.0</td>\n",
       "      <td>216.0</td>\n",
       "      <td>74.0</td>\n",
       "      <td>4.0</td>\n",
       "      <td>5.0</td>\n",
       "      <td>187.0</td>\n",
       "      <td>194</td>\n",
       "      <td>car</td>\n",
       "    </tr>\n",
       "    <tr>\n",
       "      <th>459</th>\n",
       "      <td>98</td>\n",
       "      <td>42.0</td>\n",
       "      <td>90.0</td>\n",
       "      <td>192.0</td>\n",
       "      <td>61.0</td>\n",
       "      <td>9</td>\n",
       "      <td>178.0</td>\n",
       "      <td>37.0</td>\n",
       "      <td>21.0</td>\n",
       "      <td>144</td>\n",
       "      <td>189.0</td>\n",
       "      <td>480.0</td>\n",
       "      <td>138.0</td>\n",
       "      <td>61.0</td>\n",
       "      <td>3.0</td>\n",
       "      <td>8.0</td>\n",
       "      <td>199.0</td>\n",
       "      <td>208</td>\n",
       "      <td>car</td>\n",
       "    </tr>\n",
       "  </tbody>\n",
       "</table>\n",
       "</div>"
      ],
      "text/plain": [
       "     compactness  circularity  distance_circularity  radius_ratio  \\\n",
       "560          105         55.0                  96.0         181.0   \n",
       "459           98         42.0                  90.0         192.0   \n",
       "\n",
       "     pr.axis_aspect_ratio  max.length_aspect_ratio  scatter_ratio  \\\n",
       "560                  56.0                        9          219.0   \n",
       "459                  61.0                        9          178.0   \n",
       "\n",
       "     elongatedness  pr.axis_rectangularity  max.length_rectangularity  \\\n",
       "560           30.0                    25.0                        175   \n",
       "459           37.0                    21.0                        144   \n",
       "\n",
       "     scaled_variance  scaled_variance.1  scaled_radius_of_gyration  \\\n",
       "560            231.0              713.0                      216.0   \n",
       "459            189.0              480.0                      138.0   \n",
       "\n",
       "     scaled_radius_of_gyration.1  skewness_about  skewness_about.1  \\\n",
       "560                         74.0             4.0               5.0   \n",
       "459                         61.0             3.0               8.0   \n",
       "\n",
       "     skewness_about.2  hollows_ratio class  \n",
       "560             187.0            194   car  \n",
       "459             199.0            208   car  "
      ]
     },
     "execution_count": 93,
     "metadata": {},
     "output_type": "execute_result"
    }
   ],
   "source": [
    "df.sample(2)"
   ]
  },
  {
   "cell_type": "markdown",
   "metadata": {},
   "source": [
    "### 2. Print/ Plot the dependent (categorical variable) - Class column"
   ]
  },
  {
   "cell_type": "markdown",
   "metadata": {},
   "source": [
    "Since the variable is categorical, you can use value_counts function"
   ]
  },
  {
   "cell_type": "code",
   "execution_count": 94,
   "metadata": {},
   "outputs": [],
   "source": [
    "class_var = df[\"class\"].value_counts()"
   ]
  },
  {
   "cell_type": "markdown",
   "metadata": {},
   "source": [
    "### Check for any missing values in the data "
   ]
  },
  {
   "cell_type": "code",
   "execution_count": 95,
   "metadata": {
    "scrolled": false
   },
   "outputs": [
    {
     "data": {
      "image/png": "[encoded data removed]",
      "text/plain": [
       "<Figure size 720x360 with 1 Axes>"
      ]
     },
     "metadata": {
      "needs_background": "light"
     },
     "output_type": "display_data"
    }
   ],
   "source": [
    "plt.figure(figsize=(10,5))\n",
    "sns.barplot(class_var.index, class_var.values, alpha=0.8)\n",
    "plt.title('Class Details')\n",
    "plt.ylabel('Number of Occurrences', fontsize=12)\n",
    "plt.xlabel('Class', fontsize=12)\n",
    "plt.show()"
   ]
  },
  {
   "cell_type": "markdown",
   "metadata": {},
   "source": [
    "### 3. Standardize the data "
   ]
  },
  {
   "cell_type": "code",
   "execution_count": 96,
   "metadata": {},
   "outputs": [],
   "source": [
    "x = df.drop(\"class\",axis=1)\n",
    "x_std= x.apply(stats.zscore)"
   ]
  },
  {
   "cell_type": "markdown",
   "metadata": {},
   "source": [
    "Since the dimensions of the data are not really known to us, it would be wise to standardize the data using z scores before we go for any clustering methods.\n",
    "You can use zscore function to do this"
   ]
  },
  {
   "cell_type": "markdown",
   "metadata": {},
   "source": [
    "### K - Means Clustering"
   ]
  },
  {
   "cell_type": "markdown",
   "metadata": {},
   "source": [
    "### 4. Assign a dummy array called distortion"
   ]
  },
  {
   "cell_type": "code",
   "execution_count": 97,
   "metadata": {},
   "outputs": [],
   "source": [
    "distortions = []"
   ]
  },
  {
   "cell_type": "markdown",
   "metadata": {},
   "source": [
    "You can later use this array to plot the elbow plot"
   ]
  },
  {
   "cell_type": "markdown",
   "metadata": {},
   "source": [
    "### 5. Calculating distortion - C distance"
   ]
  },
  {
   "cell_type": "code",
   "execution_count": 98,
   "metadata": {},
   "outputs": [],
   "source": [
    "from scipy.spatial.distance import cdist\n",
    "from sklearn.cluster import KMeans\n",
    "\n",
    "K = range(1,10)\n",
    "for k in K:\n",
    "    kmeanModel = KMeans(n_clusters=k).fit(x_std)\n",
    "    kmeanModel.fit(x_std)\n",
    "    distortions.append(\n",
    "        sum(np.min(cdist(x_std, kmeanModel.cluster_centers_, 'euclidean'), axis=1)) / x_std.shape[0])"
   ]
  },
  {
   "cell_type": "markdown",
   "metadata": {},
   "source": [
    "Iterating values of k from 1 to 10 fit K means model\n",
    "Using c distance - Get the measure for Sum of squares error."
   ]
  },
  {
   "cell_type": "code",
   "execution_count": 99,
   "metadata": {},
   "outputs": [
    {
     "data": {
      "text/plain": [
       "[3.939299196727955,\n",
       " 2.966824380205441,\n",
       " 2.642794199692158,\n",
       " 2.55085507119089,\n",
       " 2.429932398486287,\n",
       " 2.3153170099326648,\n",
       " 2.242937531389373,\n",
       " 2.1690697511910915,\n",
       " 2.1033088250291128]"
      ]
     },
     "execution_count": 99,
     "metadata": {},
     "output_type": "execute_result"
    }
   ],
   "source": [
    "distortions"
   ]
  },
  {
   "cell_type": "markdown",
   "metadata": {},
   "source": [
    "### 6. Plotting Elbow/ Scree Plot"
   ]
  },
  {
   "cell_type": "code",
   "execution_count": 100,
   "metadata": {},
   "outputs": [
    {
     "data": {
      "image/png": "[encoded data removed]",
      "text/plain": [
       "<Figure size 432x288 with 1 Axes>"
      ]
     },
     "metadata": {
      "needs_background": "light"
     },
     "output_type": "display_data"
    }
   ],
   "source": [
    "plt.plot(K, distortions, 'bx-')\n",
    "plt.xlabel('k')\n",
    "plt.ylabel('Distortion')\n",
    "plt.title('The Elbow Method showing the optimal k')\n",
    "plt.show()"
   ]
  },
  {
   "cell_type": "markdown",
   "metadata": {},
   "source": [
    "Use Matplotlib to plot the scree plot - Note: Scree plot plots distortion vs the no of clusters"
   ]
  },
  {
   "cell_type": "markdown",
   "metadata": {},
   "source": [
    "### Find out the optimal value of K"
   ]
  },
  {
   "cell_type": "raw",
   "metadata": {},
   "source": [
    "The optimal value of k will be 3"
   ]
  },
  {
   "cell_type": "markdown",
   "metadata": {},
   "source": [
    "### Using optimal value of K - Cluster the data. \n",
    "Note: Since the data has more than 2 dimension we cannot visualize the data. As an alternative, we can observe the centroids and note how they are distributed across different dimensions"
   ]
  },
  {
   "cell_type": "code",
   "execution_count": 101,
   "metadata": {},
   "outputs": [],
   "source": [
    "kmeans = KMeans(n_clusters=3)"
   ]
  },
  {
   "cell_type": "code",
   "execution_count": 102,
   "metadata": {},
   "outputs": [
    {
     "data": {
      "text/plain": [
       "KMeans(algorithm='auto', copy_x=True, init='k-means++', max_iter=300,\n",
       "    n_clusters=3, n_init=10, n_jobs=1, precompute_distances='auto',\n",
       "    random_state=None, tol=0.0001, verbose=0)"
      ]
     },
     "execution_count": 102,
     "metadata": {},
     "output_type": "execute_result"
    }
   ],
   "source": [
    "kmeans.fit(x_std)"
   ]
  },
  {
   "cell_type": "markdown",
   "metadata": {},
   "source": [
    "You can use kmeans.cluster_centers_ function to pull the centroid information from the instance"
   ]
  },
  {
   "cell_type": "code",
   "execution_count": 103,
   "metadata": {},
   "outputs": [],
   "source": [
    "centers = kmeans.cluster_centers_"
   ]
  },
  {
   "cell_type": "code",
   "execution_count": 104,
   "metadata": {},
   "outputs": [
    {
     "data": {
      "text/plain": [
       "array([[ 1.13076532,  1.17094237,  1.19500584,  1.01909505,  0.21505188,\n",
       "         0.34250798,  1.27180461, -1.19061224,  1.27548416,  1.09266768,\n",
       "         1.22038121,  1.28132727,  1.07954232, -0.02879497,  0.16229031,\n",
       "         0.26566456, -0.00535553,  0.18380067],\n",
       "       [-0.91400071, -0.51327609, -0.88664922, -1.05602904, -0.49182906,\n",
       "        -0.21883169, -0.775563  ,  0.85996991, -0.74203582, -0.47827281,\n",
       "        -0.77910348, -0.78034412, -0.37943428,  0.82611912, -0.08658373,\n",
       "        -0.30355495, -1.04650237, -1.10265258],\n",
       "       [-0.2319252 , -0.57973847, -0.30724438, -0.02693437,  0.20516443,\n",
       "        -0.11572895, -0.45873352,  0.32447256, -0.48810058, -0.54152679,\n",
       "        -0.41282893, -0.46297248, -0.60799507, -0.62342017, -0.06824398,\n",
       "         0.01513248,  0.82481456,  0.71018194]])"
      ]
     },
     "execution_count": 104,
     "metadata": {},
     "output_type": "execute_result"
    }
   ],
   "source": [
    "centers"
   ]
  },
  {
   "cell_type": "markdown",
   "metadata": {},
   "source": [
    "### 7. Store the centroids in a dataframe with column names from the original dataset given "
   ]
  },
  {
   "cell_type": "code",
   "execution_count": 105,
   "metadata": {},
   "outputs": [],
   "source": [
    "df_centers = pd.DataFrame(centers, columns= x_std.columns)"
   ]
  },
  {
   "cell_type": "code",
   "execution_count": 106,
   "metadata": {},
   "outputs": [
    {
     "data": {
      "text/html": [
       "<div>\n",
       "<style scoped>\n",
       "    .dataframe tbody tr th:only-of-type {\n",
       "        vertical-align: middle;\n",
       "    }\n",
       "\n",
       "    .dataframe tbody tr th {\n",
       "        vertical-align: top;\n",
       "    }\n",
       "\n",
       "    .dataframe thead th {\n",
       "        text-align: right;\n",
       "    }\n",
       "</style>\n",
       "<table border=\"1\" class=\"dataframe\">\n",
       "  <thead>\n",
       "    <tr style=\"text-align: right;\">\n",
       "      <th></th>\n",
       "      <th>compactness</th>\n",
       "      <th>circularity</th>\n",
       "      <th>distance_circularity</th>\n",
       "      <th>radius_ratio</th>\n",
       "      <th>pr.axis_aspect_ratio</th>\n",
       "      <th>max.length_aspect_ratio</th>\n",
       "      <th>scatter_ratio</th>\n",
       "      <th>elongatedness</th>\n",
       "      <th>pr.axis_rectangularity</th>\n",
       "      <th>max.length_rectangularity</th>\n",
       "      <th>scaled_variance</th>\n",
       "      <th>scaled_variance.1</th>\n",
       "      <th>scaled_radius_of_gyration</th>\n",
       "      <th>scaled_radius_of_gyration.1</th>\n",
       "      <th>skewness_about</th>\n",
       "      <th>skewness_about.1</th>\n",
       "      <th>skewness_about.2</th>\n",
       "      <th>hollows_ratio</th>\n",
       "    </tr>\n",
       "  </thead>\n",
       "  <tbody>\n",
       "    <tr>\n",
       "      <th>0</th>\n",
       "      <td>1.130765</td>\n",
       "      <td>1.170942</td>\n",
       "      <td>1.195006</td>\n",
       "      <td>1.019095</td>\n",
       "      <td>0.215052</td>\n",
       "      <td>0.342508</td>\n",
       "      <td>1.271805</td>\n",
       "      <td>-1.190612</td>\n",
       "      <td>1.275484</td>\n",
       "      <td>1.092668</td>\n",
       "      <td>1.220381</td>\n",
       "      <td>1.281327</td>\n",
       "      <td>1.079542</td>\n",
       "      <td>-0.028795</td>\n",
       "      <td>0.162290</td>\n",
       "      <td>0.265665</td>\n",
       "      <td>-0.005356</td>\n",
       "      <td>0.183801</td>\n",
       "    </tr>\n",
       "    <tr>\n",
       "      <th>1</th>\n",
       "      <td>-0.914001</td>\n",
       "      <td>-0.513276</td>\n",
       "      <td>-0.886649</td>\n",
       "      <td>-1.056029</td>\n",
       "      <td>-0.491829</td>\n",
       "      <td>-0.218832</td>\n",
       "      <td>-0.775563</td>\n",
       "      <td>0.859970</td>\n",
       "      <td>-0.742036</td>\n",
       "      <td>-0.478273</td>\n",
       "      <td>-0.779103</td>\n",
       "      <td>-0.780344</td>\n",
       "      <td>-0.379434</td>\n",
       "      <td>0.826119</td>\n",
       "      <td>-0.086584</td>\n",
       "      <td>-0.303555</td>\n",
       "      <td>-1.046502</td>\n",
       "      <td>-1.102653</td>\n",
       "    </tr>\n",
       "    <tr>\n",
       "      <th>2</th>\n",
       "      <td>-0.231925</td>\n",
       "      <td>-0.579738</td>\n",
       "      <td>-0.307244</td>\n",
       "      <td>-0.026934</td>\n",
       "      <td>0.205164</td>\n",
       "      <td>-0.115729</td>\n",
       "      <td>-0.458734</td>\n",
       "      <td>0.324473</td>\n",
       "      <td>-0.488101</td>\n",
       "      <td>-0.541527</td>\n",
       "      <td>-0.412829</td>\n",
       "      <td>-0.462972</td>\n",
       "      <td>-0.607995</td>\n",
       "      <td>-0.623420</td>\n",
       "      <td>-0.068244</td>\n",
       "      <td>0.015132</td>\n",
       "      <td>0.824815</td>\n",
       "      <td>0.710182</td>\n",
       "    </tr>\n",
       "  </tbody>\n",
       "</table>\n",
       "</div>"
      ],
      "text/plain": [
       "   compactness  circularity  distance_circularity  radius_ratio  \\\n",
       "0     1.130765     1.170942              1.195006      1.019095   \n",
       "1    -0.914001    -0.513276             -0.886649     -1.056029   \n",
       "2    -0.231925    -0.579738             -0.307244     -0.026934   \n",
       "\n",
       "   pr.axis_aspect_ratio  max.length_aspect_ratio  scatter_ratio  \\\n",
       "0              0.215052                 0.342508       1.271805   \n",
       "1             -0.491829                -0.218832      -0.775563   \n",
       "2              0.205164                -0.115729      -0.458734   \n",
       "\n",
       "   elongatedness  pr.axis_rectangularity  max.length_rectangularity  \\\n",
       "0      -1.190612                1.275484                   1.092668   \n",
       "1       0.859970               -0.742036                  -0.478273   \n",
       "2       0.324473               -0.488101                  -0.541527   \n",
       "\n",
       "   scaled_variance  scaled_variance.1  scaled_radius_of_gyration  \\\n",
       "0         1.220381           1.281327                   1.079542   \n",
       "1        -0.779103          -0.780344                  -0.379434   \n",
       "2        -0.412829          -0.462972                  -0.607995   \n",
       "\n",
       "   scaled_radius_of_gyration.1  skewness_about  skewness_about.1  \\\n",
       "0                    -0.028795        0.162290          0.265665   \n",
       "1                     0.826119       -0.086584         -0.303555   \n",
       "2                    -0.623420       -0.068244          0.015132   \n",
       "\n",
       "   skewness_about.2  hollows_ratio  \n",
       "0         -0.005356       0.183801  \n",
       "1         -1.046502      -1.102653  \n",
       "2          0.824815       0.710182  "
      ]
     },
     "execution_count": 106,
     "metadata": {},
     "output_type": "execute_result"
    }
   ],
   "source": [
    "df_centers"
   ]
  },
  {
   "cell_type": "markdown",
   "metadata": {},
   "source": [
    "Hint: Use pd.Dataframe function "
   ]
  },
  {
   "cell_type": "markdown",
   "metadata": {},
   "source": [
    "### Use kmeans.labels_ function to print out the labels of the classes"
   ]
  },
  {
   "cell_type": "code",
   "execution_count": 107,
   "metadata": {},
   "outputs": [
    {
     "data": {
      "text/plain": [
       "array([2, 2, 0, 2, 1, 2, 2, 2, 2, 2, 2, 2, 2, 0, 1, 2, 0, 1, 1, 2, 2, 0,\n",
       "       2, 1, 0, 0, 1, 2, 2, 2, 0, 2, 1, 0, 0, 1, 0, 1, 1, 2, 0, 1, 1, 1,\n",
       "       1, 2, 1, 2, 0, 2, 0, 2, 2, 1, 0, 1, 0, 1, 1, 1, 2, 1, 0, 2, 0, 0,\n",
       "       2, 1, 2, 0, 2, 1, 1, 0, 2, 1, 2, 0, 2, 1, 2, 1, 0, 2, 0, 2, 1, 0,\n",
       "       1, 1, 0, 1, 1, 2, 2, 1, 0, 0, 1, 1, 0, 2, 2, 1, 1, 1, 2, 0, 0, 2,\n",
       "       1, 1, 2, 1, 1, 1, 1, 1, 2, 0, 0, 2, 2, 1, 0, 0, 1, 2, 1, 2, 2, 0,\n",
       "       1, 2, 0, 2, 2, 2, 2, 0, 2, 2, 0, 2, 0, 2, 1, 2, 1, 0, 2, 2, 0, 0,\n",
       "       2, 0, 1, 1, 0, 0, 2, 0, 2, 2, 2, 2, 1, 0, 1, 2, 1, 0, 2, 2, 2, 0,\n",
       "       2, 0, 2, 0, 2, 1, 0, 1, 1, 1, 2, 2, 0, 0, 2, 2, 2, 1, 0, 2, 2, 2,\n",
       "       0, 1, 1, 0, 1, 2, 0, 1, 1, 1, 2, 0, 2, 0, 1, 1, 1, 1, 0, 2, 1, 2,\n",
       "       0, 1, 2, 2, 1, 0, 1, 1, 2, 2, 0, 1, 0, 1, 2, 2, 0, 2, 2, 0, 0, 1,\n",
       "       2, 2, 2, 0, 1, 2, 2, 1, 1, 2, 2, 0, 2, 1, 1, 0, 2, 2, 1, 1, 0, 1,\n",
       "       2, 0, 1, 2, 0, 2, 2, 0, 2, 0, 1, 2, 2, 0, 2, 2, 2, 1, 2, 0, 0, 0,\n",
       "       0, 1, 2, 0, 1, 1, 1, 2, 1, 0, 0, 1, 0, 2, 1, 0, 1, 2, 2, 0, 0, 1,\n",
       "       0, 0, 1, 0, 2, 2, 2, 1, 1, 0, 0, 0, 2, 2, 2, 0, 1, 2, 1, 0, 2, 2,\n",
       "       0, 2, 0, 0, 0, 2, 1, 1, 0, 1, 1, 1, 2, 2, 2, 2, 1, 0, 0, 1, 1, 0,\n",
       "       1, 0, 1, 0, 2, 1, 2, 1, 0, 0, 1, 2, 2, 2, 0, 2, 2, 2, 2, 0, 2, 0,\n",
       "       2, 0, 2, 1, 1, 2, 2, 2, 1, 1, 2, 1, 0, 2, 2, 1, 1, 0, 2, 1, 2, 2,\n",
       "       0, 2, 0, 2, 0, 0, 1, 1, 0, 2, 1, 1, 2, 0, 0, 1, 2, 0, 0, 1, 0, 0,\n",
       "       0, 2, 2, 2, 2, 2, 0, 1, 1, 2, 0, 2, 2, 0, 2, 1, 0, 1, 1, 0, 2, 1,\n",
       "       0, 0, 0, 1, 0, 0, 1, 2, 1, 0, 0, 2, 2, 1, 1, 0, 2, 1, 0, 0, 2, 1,\n",
       "       0, 0, 2, 1, 1, 0, 0, 0, 1, 1, 0, 0, 0, 2, 2, 0, 1, 2, 0, 2, 1, 1,\n",
       "       2, 0, 1, 2, 2, 1, 2, 0, 2, 0, 0, 2, 1, 2, 0, 0, 1, 1, 2, 0, 2, 0,\n",
       "       0, 2, 2, 2, 2, 1, 1, 1, 2, 2, 0, 1, 1, 2, 1, 0, 2, 0, 1, 1, 0, 0,\n",
       "       2, 0, 2, 2, 2, 0, 2, 1, 2, 0, 2, 2, 1, 0, 0, 0, 0, 2, 1, 1, 1, 0,\n",
       "       0, 0, 2, 0, 1, 2, 0, 1, 1, 1, 2, 1, 0, 2, 2, 2, 2, 2, 2, 0, 2, 2,\n",
       "       0, 2, 2, 2, 1, 0, 1, 1, 2, 1, 2, 2, 1, 1, 0, 0, 1, 2, 0, 2, 0, 2,\n",
       "       2, 0, 2, 1, 0, 1, 0, 1, 1, 2, 1, 2, 0, 0, 1, 0, 2, 2, 1, 2, 1, 0,\n",
       "       2, 0, 1, 2, 2, 2, 1, 1, 1, 2, 0, 2, 0, 1, 2, 2, 2, 2, 0, 2, 1, 0,\n",
       "       2, 0, 2, 2, 0, 1, 0, 1, 2, 1, 2, 1, 0, 2, 1, 2, 0, 1, 0, 2, 1, 0,\n",
       "       1, 2, 1, 2, 2, 1, 2, 0, 0, 2, 2, 0, 0, 2, 2, 1, 2, 0, 0, 0, 0, 2,\n",
       "       0, 2, 2, 0, 0, 2, 0, 2, 0, 2, 1, 0, 2, 1, 0, 0, 0, 2, 0, 1, 1, 0,\n",
       "       0, 0, 2, 0, 2, 2, 0, 2, 1, 2, 1, 2, 0, 2, 1, 2, 2, 2, 1, 0, 1, 1,\n",
       "       1, 0, 0, 1, 0, 0, 1, 2, 2, 0, 2, 1, 0, 0, 1, 2, 2, 0, 0, 0, 1, 0,\n",
       "       2, 0, 0, 1, 1, 0, 1, 0, 2, 1, 2, 0, 0, 2, 1, 2, 0, 0, 2, 2, 1, 2,\n",
       "       2, 0, 1, 2, 0, 1, 1, 0, 1, 2, 1, 1, 1, 2, 0, 0, 2, 1, 0, 2, 0, 0,\n",
       "       1, 2, 0, 1, 1, 2, 2, 0, 1, 1, 0, 1, 2, 2, 2, 2, 2, 2, 0, 2, 1])"
      ]
     },
     "execution_count": 107,
     "metadata": {},
     "output_type": "execute_result"
    }
   ],
   "source": [
    "kmeans.labels_"
   ]
  },
  {
   "cell_type": "markdown",
   "metadata": {},
   "source": [
    "## Hierarchical Clustering "
   ]
  },
  {
   "cell_type": "markdown",
   "metadata": {},
   "source": [
    "### 8. Variable creation"
   ]
  },
  {
   "cell_type": "markdown",
   "metadata": {},
   "source": [
    "For Hierarchical clustering, we will create datasets using multivariate normal distribution to visually observe how the clusters are formed at the end"
   ]
  },
  {
   "cell_type": "code",
   "execution_count": 108,
   "metadata": {},
   "outputs": [],
   "source": [
    "a = np.random.multivariate_normal([10, 0], [[3, 1], [1, 4]], size=[100,])\n",
    "b = np.random.multivariate_normal([0, 20], [[3, 1], [1, 4]], size=[50,])\n",
    "c = np.random.multivariate_normal([10, 20], [[3, 1], [1, 4]], size=[100,])"
   ]
  },
  {
   "cell_type": "markdown",
   "metadata": {},
   "source": [
    "### 9. Combine all three arrays a,b,c into a dataframe"
   ]
  },
  {
   "cell_type": "code",
   "execution_count": 109,
   "metadata": {},
   "outputs": [
    {
     "data": {
      "text/plain": [
       "(250, 2)"
      ]
     },
     "execution_count": 109,
     "metadata": {},
     "output_type": "execute_result"
    }
   ],
   "source": [
    "df_hierarchy = np.concatenate((a, b,c),)\n",
    "df_hierarchy.shape"
   ]
  },
  {
   "cell_type": "markdown",
   "metadata": {},
   "source": [
    "### 10. Use scatter matrix to print all the 3 distributions"
   ]
  },
  {
   "cell_type": "code",
   "execution_count": 110,
   "metadata": {},
   "outputs": [
    {
     "data": {
      "text/plain": [
       "<matplotlib.collections.PathCollection at 0xb1f7400>"
      ]
     },
     "execution_count": 110,
     "metadata": {},
     "output_type": "execute_result"
    },
    {
     "data": {
      "image/png": "[encoded data removed]",
      "text/plain": [
       "<Figure size 432x288 with 1 Axes>"
      ]
     },
     "metadata": {
      "needs_background": "light"
     },
     "output_type": "display_data"
    }
   ],
   "source": [
    "plt.scatter(df_hierarchy[:,0], df_hierarchy[:,1])"
   ]
  },
  {
   "cell_type": "markdown",
   "metadata": {},
   "source": [
    "### 11. Find out the linkage matrix"
   ]
  },
  {
   "cell_type": "markdown",
   "metadata": {},
   "source": [
    "Use ward as linkage metric and distance as Eucledian"
   ]
  },
  {
   "cell_type": "code",
   "execution_count": 111,
   "metadata": {},
   "outputs": [
    {
     "data": {
      "text/plain": [
       "array([[1.15000000e+02, 1.19000000e+02, 5.30958288e-03, 2.00000000e+00],\n",
       "       [2.07000000e+02, 2.24000000e+02, 2.45035844e-02, 2.00000000e+00],\n",
       "       [2.19000000e+02, 2.33000000e+02, 3.65957311e-02, 2.00000000e+00],\n",
       "       [3.60000000e+01, 9.60000000e+01, 3.85379009e-02, 2.00000000e+00],\n",
       "       [2.01000000e+02, 2.46000000e+02, 4.95418116e-02, 2.00000000e+00],\n",
       "       [2.20000000e+01, 2.30000000e+01, 5.16629754e-02, 2.00000000e+00],\n",
       "       [1.66000000e+02, 1.91000000e+02, 6.11518857e-02, 2.00000000e+00],\n",
       "       [1.70000000e+01, 3.10000000e+01, 6.88917289e-02, 2.00000000e+00],\n",
       "       [1.00000000e+01, 8.90000000e+01, 7.47648105e-02, 2.00000000e+00],\n",
       "       [1.63000000e+02, 1.84000000e+02, 8.54466908e-02, 2.00000000e+00],\n",
       "       [1.90000000e+01, 2.40000000e+01, 9.14447560e-02, 2.00000000e+00],\n",
       "       [1.53000000e+02, 2.34000000e+02, 9.28478791e-02, 2.00000000e+00],\n",
       "       [2.70000000e+01, 6.30000000e+01, 1.01156914e-01, 2.00000000e+00],\n",
       "       [1.50000000e+02, 2.49000000e+02, 1.10406041e-01, 2.00000000e+00],\n",
       "       [1.60000000e+02, 2.12000000e+02, 1.16270259e-01, 2.00000000e+00],\n",
       "       [2.03000000e+02, 2.36000000e+02, 1.32912292e-01, 2.00000000e+00],\n",
       "       [5.30000000e+01, 6.50000000e+01, 1.33135102e-01, 2.00000000e+00],\n",
       "       [2.22000000e+02, 2.23000000e+02, 1.58671820e-01, 2.00000000e+00],\n",
       "       [1.40000000e+01, 2.10000000e+01, 1.58860572e-01, 2.00000000e+00],\n",
       "       [2.06000000e+02, 2.13000000e+02, 1.58918677e-01, 2.00000000e+00],\n",
       "       [3.70000000e+01, 5.80000000e+01, 1.59661014e-01, 2.00000000e+00],\n",
       "       [7.10000000e+01, 7.40000000e+01, 1.63326794e-01, 2.00000000e+00],\n",
       "       [1.93000000e+02, 2.63000000e+02, 1.78266186e-01, 3.00000000e+00],\n",
       "       [4.90000000e+01, 8.60000000e+01, 1.78870591e-01, 2.00000000e+00],\n",
       "       [1.50000000e+01, 8.40000000e+01, 1.79204572e-01, 2.00000000e+00],\n",
       "       [2.60000000e+01, 2.60000000e+02, 1.89889012e-01, 3.00000000e+00],\n",
       "       [1.76000000e+02, 2.20000000e+02, 1.90325388e-01, 2.00000000e+00],\n",
       "       [5.60000000e+01, 2.53000000e+02, 1.90945470e-01, 3.00000000e+00],\n",
       "       [2.80000000e+01, 7.20000000e+01, 2.05636066e-01, 2.00000000e+00],\n",
       "       [0.00000000e+00, 9.00000000e+01, 2.16164295e-01, 2.00000000e+00],\n",
       "       [9.70000000e+01, 2.57000000e+02, 2.16278739e-01, 3.00000000e+00],\n",
       "       [3.20000000e+01, 6.00000000e+01, 2.18992078e-01, 2.00000000e+00],\n",
       "       [1.10000000e+02, 1.14000000e+02, 2.23294347e-01, 2.00000000e+00],\n",
       "       [1.69000000e+02, 2.37000000e+02, 2.25585730e-01, 2.00000000e+00],\n",
       "       [2.90000000e+01, 5.20000000e+01, 2.37980661e-01, 2.00000000e+00],\n",
       "       [2.00000000e+00, 5.50000000e+01, 2.43359758e-01, 2.00000000e+00],\n",
       "       [1.00000000e+00, 7.30000000e+01, 2.46129468e-01, 2.00000000e+00],\n",
       "       [4.00000000e+00, 8.10000000e+01, 2.50908084e-01, 2.00000000e+00],\n",
       "       [1.09000000e+02, 1.34000000e+02, 2.51130505e-01, 2.00000000e+00],\n",
       "       [1.11000000e+02, 1.26000000e+02, 2.57353371e-01, 2.00000000e+00],\n",
       "       [2.00000000e+02, 2.64000000e+02, 2.65107552e-01, 3.00000000e+00],\n",
       "       [1.99000000e+02, 2.65000000e+02, 2.68461592e-01, 3.00000000e+00],\n",
       "       [1.97000000e+02, 2.38000000e+02, 2.68998802e-01, 2.00000000e+00],\n",
       "       [8.50000000e+01, 9.30000000e+01, 2.69816683e-01, 2.00000000e+00],\n",
       "       [1.05000000e+02, 1.17000000e+02, 2.73179273e-01, 2.00000000e+00],\n",
       "       [1.95000000e+02, 2.15000000e+02, 2.76411005e-01, 2.00000000e+00],\n",
       "       [1.94000000e+02, 2.31000000e+02, 2.83821581e-01, 2.00000000e+00],\n",
       "       [1.01000000e+02, 2.82000000e+02, 2.84542993e-01, 3.00000000e+00],\n",
       "       [1.30000000e+01, 2.74000000e+02, 2.86318822e-01, 3.00000000e+00],\n",
       "       [5.10000000e+01, 9.50000000e+01, 2.94469724e-01, 2.00000000e+00],\n",
       "       [5.40000000e+01, 7.60000000e+01, 2.96731740e-01, 2.00000000e+00],\n",
       "       [3.00000000e+00, 1.10000000e+01, 2.98778367e-01, 2.00000000e+00],\n",
       "       [6.20000000e+01, 2.58000000e+02, 3.03406762e-01, 3.00000000e+00],\n",
       "       [3.50000000e+01, 8.70000000e+01, 3.07460884e-01, 2.00000000e+00],\n",
       "       [2.16000000e+02, 2.59000000e+02, 3.14775059e-01, 3.00000000e+00],\n",
       "       [7.90000000e+01, 2.80000000e+02, 3.18311397e-01, 4.00000000e+00],\n",
       "       [1.51000000e+02, 2.32000000e+02, 3.23403589e-01, 2.00000000e+00],\n",
       "       [1.80000000e+01, 6.90000000e+01, 3.31627273e-01, 2.00000000e+00],\n",
       "       [1.07000000e+02, 1.37000000e+02, 3.37619353e-01, 2.00000000e+00],\n",
       "       [1.20000000e+01, 1.60000000e+01, 3.37916202e-01, 2.00000000e+00],\n",
       "       [4.70000000e+01, 2.66000000e+02, 3.48585413e-01, 3.00000000e+00],\n",
       "       [9.10000000e+01, 2.87000000e+02, 3.55564879e-01, 3.00000000e+00],\n",
       "       [1.00000000e+02, 2.89000000e+02, 3.59262647e-01, 3.00000000e+00],\n",
       "       [5.90000000e+01, 2.93000000e+02, 3.60223167e-01, 3.00000000e+00],\n",
       "       [6.10000000e+01, 6.80000000e+01, 3.61529107e-01, 2.00000000e+00],\n",
       "       [8.80000000e+01, 2.71000000e+02, 3.61740036e-01, 3.00000000e+00],\n",
       "       [1.24000000e+02, 1.39000000e+02, 3.80023586e-01, 2.00000000e+00],\n",
       "       [1.06000000e+02, 1.36000000e+02, 3.80623191e-01, 2.00000000e+00],\n",
       "       [1.89000000e+02, 2.29000000e+02, 3.83177805e-01, 2.00000000e+00],\n",
       "       [1.64000000e+02, 1.96000000e+02, 3.86855286e-01, 2.00000000e+00],\n",
       "       [1.82000000e+02, 3.04000000e+02, 3.88291277e-01, 4.00000000e+00],\n",
       "       [1.90000000e+02, 2.47000000e+02, 3.90100649e-01, 2.00000000e+00],\n",
       "       [1.77000000e+02, 2.40000000e+02, 3.91685267e-01, 2.00000000e+00],\n",
       "       [2.48000000e+02, 2.72000000e+02, 4.03808572e-01, 4.00000000e+00],\n",
       "       [1.85000000e+02, 1.87000000e+02, 4.21519195e-01, 2.00000000e+00],\n",
       "       [5.00000000e+01, 2.70000000e+02, 4.23510259e-01, 3.00000000e+00],\n",
       "       [9.00000000e+00, 2.77000000e+02, 4.30411869e-01, 4.00000000e+00],\n",
       "       [4.10000000e+01, 8.00000000e+01, 4.41639096e-01, 2.00000000e+00],\n",
       "       [3.40000000e+01, 3.10000000e+02, 4.49151723e-01, 4.00000000e+00],\n",
       "       [1.57000000e+02, 1.86000000e+02, 4.50370334e-01, 2.00000000e+00],\n",
       "       [1.59000000e+02, 2.61000000e+02, 4.50524982e-01, 3.00000000e+00],\n",
       "       [1.74000000e+02, 1.81000000e+02, 4.59055855e-01, 2.00000000e+00],\n",
       "       [2.51000000e+02, 2.91000000e+02, 4.62053010e-01, 5.00000000e+00],\n",
       "       [1.98000000e+02, 2.44000000e+02, 4.65010210e-01, 2.00000000e+00],\n",
       "       [2.02000000e+02, 2.27000000e+02, 4.66982595e-01, 2.00000000e+00],\n",
       "       [1.22000000e+02, 1.27000000e+02, 4.68533862e-01, 2.00000000e+00],\n",
       "       [1.88000000e+02, 3.06000000e+02, 4.70798797e-01, 3.00000000e+00],\n",
       "       [2.21000000e+02, 2.52000000e+02, 4.84989002e-01, 3.00000000e+00],\n",
       "       [7.70000000e+01, 9.80000000e+01, 4.85018227e-01, 2.00000000e+00],\n",
       "       [1.92000000e+02, 2.14000000e+02, 4.97904035e-01, 2.00000000e+00],\n",
       "       [2.04000000e+02, 2.45000000e+02, 5.09955872e-01, 2.00000000e+00],\n",
       "       [1.68000000e+02, 3.34000000e+02, 5.10503686e-01, 3.00000000e+00],\n",
       "       [1.38000000e+02, 1.40000000e+02, 5.16136368e-01, 2.00000000e+00],\n",
       "       [9.20000000e+01, 3.09000000e+02, 5.22365726e-01, 3.00000000e+00],\n",
       "       [1.72000000e+02, 2.10000000e+02, 5.27424101e-01, 2.00000000e+00],\n",
       "       [2.79000000e+02, 3.01000000e+02, 5.36946254e-01, 4.00000000e+00],\n",
       "       [1.28000000e+02, 1.47000000e+02, 5.39320186e-01, 2.00000000e+00],\n",
       "       [2.43000000e+02, 2.67000000e+02, 5.41370083e-01, 3.00000000e+00],\n",
       "       [2.08000000e+02, 3.37000000e+02, 5.48054028e-01, 4.00000000e+00],\n",
       "       [4.30000000e+01, 3.03000000e+02, 5.50828507e-01, 3.00000000e+00],\n",
       "       [1.56000000e+02, 2.05000000e+02, 5.63180122e-01, 2.00000000e+00],\n",
       "       [1.71000000e+02, 1.73000000e+02, 5.63507912e-01, 2.00000000e+00],\n",
       "       [6.40000000e+01, 6.70000000e+01, 5.67110712e-01, 2.00000000e+00],\n",
       "       [8.00000000e+00, 3.25000000e+02, 5.69902263e-01, 4.00000000e+00],\n",
       "       [1.65000000e+02, 2.39000000e+02, 5.91751108e-01, 2.00000000e+00],\n",
       "       [1.61000000e+02, 2.30000000e+02, 6.01483003e-01, 2.00000000e+00],\n",
       "       [6.60000000e+01, 9.90000000e+01, 6.04316203e-01, 2.00000000e+00],\n",
       "       [2.41000000e+02, 3.33000000e+02, 6.04615874e-01, 3.00000000e+00],\n",
       "       [1.48000000e+02, 2.97000000e+02, 6.16788879e-01, 4.00000000e+00],\n",
       "       [5.70000000e+01, 3.14000000e+02, 6.30304256e-01, 3.00000000e+00],\n",
       "       [1.18000000e+02, 2.50000000e+02, 6.51643285e-01, 3.00000000e+00],\n",
       "       [4.80000000e+01, 3.00000000e+02, 6.66551769e-01, 3.00000000e+00],\n",
       "       [7.00000000e+00, 4.20000000e+01, 6.67156152e-01, 2.00000000e+00],\n",
       "       [1.04000000e+02, 1.21000000e+02, 6.68220055e-01, 2.00000000e+00],\n",
       "       [2.96000000e+02, 3.18000000e+02, 6.82205550e-01, 4.00000000e+00],\n",
       "       [7.00000000e+01, 3.15000000e+02, 6.90185925e-01, 4.00000000e+00],\n",
       "       [4.50000000e+01, 3.07000000e+02, 6.91773454e-01, 3.00000000e+00],\n",
       "       [7.80000000e+01, 2.68000000e+02, 6.96490837e-01, 3.00000000e+00],\n",
       "       [1.52000000e+02, 1.80000000e+02, 7.09085151e-01, 2.00000000e+00],\n",
       "       [1.23000000e+02, 1.49000000e+02, 7.34897887e-01, 2.00000000e+00],\n",
       "       [1.32000000e+02, 1.33000000e+02, 7.45322418e-01, 2.00000000e+00],\n",
       "       [3.12000000e+02, 3.42000000e+02, 7.62887544e-01, 5.00000000e+00],\n",
       "       [2.56000000e+02, 3.20000000e+02, 7.80567883e-01, 6.00000000e+00],\n",
       "       [1.13000000e+02, 1.45000000e+02, 7.81760487e-01, 2.00000000e+00],\n",
       "       [5.00000000e+00, 2.85000000e+02, 7.87093564e-01, 3.00000000e+00],\n",
       "       [1.75000000e+02, 2.26000000e+02, 7.95805610e-01, 2.00000000e+00],\n",
       "       [2.09000000e+02, 2.69000000e+02, 7.97883869e-01, 3.00000000e+00],\n",
       "       [2.11000000e+02, 2.18000000e+02, 8.11737047e-01, 2.00000000e+00],\n",
       "       [1.16000000e+02, 3.08000000e+02, 8.34547580e-01, 3.00000000e+00],\n",
       "       [1.25000000e+02, 1.42000000e+02, 8.44942848e-01, 2.00000000e+00],\n",
       "       [1.02000000e+02, 3.35000000e+02, 8.47462554e-01, 3.00000000e+00],\n",
       "       [2.17000000e+02, 2.35000000e+02, 8.47499385e-01, 2.00000000e+00],\n",
       "       [6.00000000e+00, 8.30000000e+01, 8.49016574e-01, 2.00000000e+00],\n",
       "       [2.75000000e+02, 3.43000000e+02, 8.50894061e-01, 6.00000000e+00],\n",
       "       [2.76000000e+02, 3.47000000e+02, 8.73015398e-01, 5.00000000e+00],\n",
       "       [2.54000000e+02, 3.24000000e+02, 9.00476745e-01, 4.00000000e+00],\n",
       "       [3.00000000e+01, 7.50000000e+01, 9.48274729e-01, 2.00000000e+00],\n",
       "       [3.80000000e+01, 3.62000000e+02, 9.72756525e-01, 3.00000000e+00],\n",
       "       [1.08000000e+02, 1.29000000e+02, 9.76361032e-01, 2.00000000e+00],\n",
       "       [1.55000000e+02, 2.90000000e+02, 9.83563416e-01, 4.00000000e+00],\n",
       "       [2.84000000e+02, 3.11000000e+02, 1.01183218e+00, 5.00000000e+00],\n",
       "       [3.90000000e+01, 2.99000000e+02, 1.01760882e+00, 3.00000000e+00],\n",
       "       [2.88000000e+02, 3.17000000e+02, 1.02591751e+00, 4.00000000e+00],\n",
       "       [3.51000000e+02, 3.55000000e+02, 1.03291533e+00, 4.00000000e+00],\n",
       "       [1.58000000e+02, 2.25000000e+02, 1.04077778e+00, 2.00000000e+00],\n",
       "       [3.16000000e+02, 3.60000000e+02, 1.06512593e+00, 5.00000000e+00],\n",
       "       [1.41000000e+02, 3.78000000e+02, 1.06556694e+00, 4.00000000e+00],\n",
       "       [2.55000000e+02, 3.26000000e+02, 1.07090540e+00, 6.00000000e+00],\n",
       "       [3.36000000e+02, 3.68000000e+02, 1.08596532e+00, 5.00000000e+00],\n",
       "       [3.13000000e+02, 3.66000000e+02, 1.16745224e+00, 6.00000000e+00],\n",
       "       [1.54000000e+02, 3.29000000e+02, 1.16870888e+00, 3.00000000e+00],\n",
       "       [3.05000000e+02, 3.27000000e+02, 1.18271311e+00, 6.00000000e+00],\n",
       "       [3.22000000e+02, 3.30000000e+02, 1.19803820e+00, 5.00000000e+00],\n",
       "       [1.31000000e+02, 1.44000000e+02, 1.22066746e+00, 2.00000000e+00],\n",
       "       [4.40000000e+01, 3.38000000e+02, 1.22472836e+00, 3.00000000e+00],\n",
       "       [9.40000000e+01, 3.28000000e+02, 1.24038550e+00, 5.00000000e+00],\n",
       "       [3.02000000e+02, 3.49000000e+02, 1.24063942e+00, 6.00000000e+00],\n",
       "       [4.60000000e+01, 3.56000000e+02, 1.24938959e+00, 3.00000000e+00],\n",
       "       [1.83000000e+02, 3.75000000e+02, 1.25020789e+00, 3.00000000e+00],\n",
       "       [3.40000000e+02, 3.50000000e+02, 1.27416701e+00, 4.00000000e+00],\n",
       "       [3.41000000e+02, 3.77000000e+02, 1.28136554e+00, 5.00000000e+00],\n",
       "       [1.78000000e+02, 1.79000000e+02, 1.29152099e+00, 2.00000000e+00],\n",
       "       [2.42000000e+02, 3.32000000e+02, 1.30941534e+00, 6.00000000e+00],\n",
       "       [2.92000000e+02, 3.89000000e+02, 1.31831362e+00, 6.00000000e+00],\n",
       "       [2.00000000e+01, 3.30000000e+01, 1.32084661e+00, 2.00000000e+00],\n",
       "       [3.44000000e+02, 3.94000000e+02, 1.35055281e+00, 4.00000000e+00],\n",
       "       [2.81000000e+02, 3.61000000e+02, 1.35964853e+00, 5.00000000e+00],\n",
       "       [1.35000000e+02, 3.69000000e+02, 1.36723181e+00, 3.00000000e+00],\n",
       "       [2.62000000e+02, 3.45000000e+02, 1.37685509e+00, 6.00000000e+00],\n",
       "       [1.03000000e+02, 1.12000000e+02, 1.43017483e+00, 2.00000000e+00],\n",
       "       [2.28000000e+02, 3.76000000e+02, 1.44046040e+00, 4.00000000e+00],\n",
       "       [3.19000000e+02, 4.00000000e+02, 1.45301199e+00, 5.00000000e+00],\n",
       "       [3.74000000e+02, 3.97000000e+02, 1.50435550e+00, 9.00000000e+00],\n",
       "       [2.94000000e+02, 4.03000000e+02, 1.55281070e+00, 4.00000000e+00],\n",
       "       [3.39000000e+02, 3.81000000e+02, 1.56019042e+00, 4.00000000e+00],\n",
       "       [2.83000000e+02, 3.72000000e+02, 1.57117039e+00, 8.00000000e+00],\n",
       "       [8.20000000e+01, 4.14000000e+02, 1.63182567e+00, 3.00000000e+00],\n",
       "       [3.31000000e+02, 3.85000000e+02, 1.63300659e+00, 6.00000000e+00],\n",
       "       [2.73000000e+02, 3.52000000e+02, 1.67789771e+00, 4.00000000e+00],\n",
       "       [3.70000000e+02, 3.79000000e+02, 1.69808945e+00, 4.00000000e+00],\n",
       "       [3.57000000e+02, 4.12000000e+02, 1.71534700e+00, 9.00000000e+00],\n",
       "       [3.87000000e+02, 4.06000000e+02, 1.74433124e+00, 9.00000000e+00],\n",
       "       [1.20000000e+02, 3.63000000e+02, 1.75133920e+00, 3.00000000e+00],\n",
       "       [3.53000000e+02, 3.91000000e+02, 1.78450966e+00, 7.00000000e+00],\n",
       "       [3.21000000e+02, 4.08000000e+02, 1.78629389e+00, 5.00000000e+00],\n",
       "       [2.98000000e+02, 3.59000000e+02, 1.85819189e+00, 6.00000000e+00],\n",
       "       [3.73000000e+02, 3.80000000e+02, 1.91370448e+00, 5.00000000e+00],\n",
       "       [2.78000000e+02, 2.86000000e+02, 1.94915439e+00, 4.00000000e+00],\n",
       "       [4.00000000e+01, 4.07000000e+02, 1.96584004e+00, 4.00000000e+00],\n",
       "       [3.82000000e+02, 3.99000000e+02, 2.03228281e+00, 8.00000000e+00],\n",
       "       [3.67000000e+02, 4.05000000e+02, 2.07152317e+00, 8.00000000e+00],\n",
       "       [3.65000000e+02, 3.90000000e+02, 2.08569306e+00, 9.00000000e+00],\n",
       "       [3.23000000e+02, 3.64000000e+02, 2.09082914e+00, 8.00000000e+00],\n",
       "       [3.71000000e+02, 3.92000000e+02, 2.11209859e+00, 9.00000000e+00],\n",
       "       [1.43000000e+02, 1.46000000e+02, 2.11281229e+00, 2.00000000e+00],\n",
       "       [3.58000000e+02, 4.29000000e+02, 2.18291629e+00, 8.00000000e+00],\n",
       "       [3.54000000e+02, 3.84000000e+02, 2.22527566e+00, 7.00000000e+00],\n",
       "       [3.98000000e+02, 4.11000000e+02, 2.27903780e+00, 7.00000000e+00],\n",
       "       [3.48000000e+02, 4.25000000e+02, 2.39525656e+00, 1.20000000e+01],\n",
       "       [4.10000000e+02, 4.42000000e+02, 2.50739540e+00, 1.30000000e+01],\n",
       "       [3.95000000e+02, 3.96000000e+02, 2.56543169e+00, 9.00000000e+00],\n",
       "       [4.02000000e+02, 4.30000000e+02, 2.61262340e+00, 1.40000000e+01],\n",
       "       [1.62000000e+02, 1.70000000e+02, 2.67265945e+00, 2.00000000e+00],\n",
       "       [4.18000000e+02, 4.28000000e+02, 2.71965918e+00, 1.00000000e+01],\n",
       "       [1.30000000e+02, 4.23000000e+02, 2.82027786e+00, 5.00000000e+00],\n",
       "       [4.17000000e+02, 4.32000000e+02, 2.82212337e+00, 6.00000000e+00],\n",
       "       [4.01000000e+02, 4.40000000e+02, 2.98978832e+00, 1.40000000e+01],\n",
       "       [3.46000000e+02, 4.36000000e+02, 3.07792525e+00, 7.00000000e+00],\n",
       "       [3.83000000e+02, 4.41000000e+02, 3.09897623e+00, 1.50000000e+01],\n",
       "       [4.16000000e+02, 4.39000000e+02, 3.19596124e+00, 1.30000000e+01],\n",
       "       [3.93000000e+02, 4.21000000e+02, 3.24783131e+00, 9.00000000e+00],\n",
       "       [4.04000000e+02, 4.35000000e+02, 3.25480135e+00, 9.00000000e+00],\n",
       "       [4.09000000e+02, 4.46000000e+02, 3.29913806e+00, 1.10000000e+01],\n",
       "       [1.67000000e+02, 2.95000000e+02, 3.52525134e+00, 3.00000000e+00],\n",
       "       [4.43000000e+02, 4.50000000e+02, 3.55453762e+00, 1.80000000e+01],\n",
       "       [4.33000000e+02, 4.53000000e+02, 3.73718030e+00, 1.70000000e+01],\n",
       "       [4.27000000e+02, 4.47000000e+02, 3.80793182e+00, 1.30000000e+01],\n",
       "       [4.20000000e+02, 4.24000000e+02, 3.97529637e+00, 8.00000000e+00],\n",
       "       [4.15000000e+02, 4.48000000e+02, 4.00330813e+00, 1.60000000e+01],\n",
       "       [3.86000000e+02, 4.37000000e+02, 4.22155441e+00, 6.00000000e+00],\n",
       "       [4.22000000e+02, 4.59000000e+02, 4.39868134e+00, 2.20000000e+01],\n",
       "       [3.88000000e+02, 4.45000000e+02, 4.44729345e+00, 1.00000000e+01],\n",
       "       [4.13000000e+02, 4.63000000e+02, 4.47482359e+00, 9.00000000e+00],\n",
       "       [2.50000000e+01, 4.38000000e+02, 4.75168335e+00, 5.00000000e+00],\n",
       "       [4.19000000e+02, 4.44000000e+02, 4.96781652e+00, 4.00000000e+00],\n",
       "       [4.54000000e+02, 4.71000000e+02, 5.37321077e+00, 1.50000000e+01],\n",
       "       [4.26000000e+02, 4.61000000e+02, 5.40001249e+00, 1.20000000e+01],\n",
       "       [4.52000000e+02, 4.67000000e+02, 5.57360660e+00, 1.00000000e+01],\n",
       "       [4.34000000e+02, 4.60000000e+02, 5.88681758e+00, 1.40000000e+01],\n",
       "       [4.56000000e+02, 4.58000000e+02, 6.41464201e+00, 2.90000000e+01],\n",
       "       [4.51000000e+02, 4.68000000e+02, 6.72740764e+00, 3.00000000e+01],\n",
       "       [4.31000000e+02, 4.65000000e+02, 6.81195307e+00, 2.60000000e+01],\n",
       "       [4.55000000e+02, 4.57000000e+02, 7.30715951e+00, 1.30000000e+01],\n",
       "       [4.49000000e+02, 4.80000000e+02, 7.46717524e+00, 4.30000000e+01],\n",
       "       [4.66000000e+02, 4.77000000e+02, 8.15748027e+00, 2.30000000e+01],\n",
       "       [4.64000000e+02, 4.82000000e+02, 8.83495337e+00, 3.10000000e+01],\n",
       "       [4.72000000e+02, 4.78000000e+02, 9.58045135e+00, 2.30000000e+01],\n",
       "       [4.70000000e+02, 4.76000000e+02, 9.94572475e+00, 3.40000000e+01],\n",
       "       [4.73000000e+02, 4.81000000e+02, 1.00139673e+01, 3.10000000e+01],\n",
       "       [4.69000000e+02, 4.79000000e+02, 1.10593429e+01, 3.50000000e+01],\n",
       "       [4.74000000e+02, 4.75000000e+02, 1.16842485e+01, 1.90000000e+01],\n",
       "       [4.62000000e+02, 4.84000000e+02, 1.36573638e+01, 3.40000000e+01],\n",
       "       [4.88000000e+02, 4.89000000e+02, 1.52649357e+01, 6.60000000e+01],\n",
       "       [4.83000000e+02, 4.86000000e+02, 1.59781248e+01, 6.60000000e+01],\n",
       "       [4.85000000e+02, 4.90000000e+02, 1.66771369e+01, 5.00000000e+01],\n",
       "       [4.87000000e+02, 4.92000000e+02, 2.30296090e+01, 1.00000000e+02],\n",
       "       [4.91000000e+02, 4.93000000e+02, 2.36954024e+01, 1.00000000e+02],\n",
       "       [4.94000000e+02, 4.96000000e+02, 7.92805555e+01, 1.50000000e+02],\n",
       "       [4.95000000e+02, 4.97000000e+02, 2.17324776e+02, 2.50000000e+02]])"
      ]
     },
     "execution_count": 111,
     "metadata": {},
     "output_type": "execute_result"
    }
   ],
   "source": [
    "from scipy.cluster.hierarchy import dendrogram, linkage\n",
    "Z = linkage(df_hierarchy, 'ward', metric='euclidean')\n",
    "Z"
   ]
  },
  {
   "cell_type": "markdown",
   "metadata": {},
   "source": [
    "### 12. Plot the dendrogram for the consolidated dataframe"
   ]
  },
  {
   "cell_type": "code",
   "execution_count": 112,
   "metadata": {},
   "outputs": [
    {
     "data": {
      "image/png": "[encoded data removed]",
      "text/plain": [
       "<Figure size 1800x720 with 1 Axes>"
      ]
     },
     "metadata": {
      "needs_background": "light"
     },
     "output_type": "display_data"
    }
   ],
   "source": [
    "plt.figure(figsize=(25, 10))\n",
    "plt.title('Hierarchical Clustering Dendrogram')\n",
    "plt.xlabel('sample index')\n",
    "plt.ylabel('distance')\n",
    "dendrogram(\n",
    "    Z,\n",
    "    leaf_rotation=90.,  # rotates the x axis labels\n",
    "    leaf_font_size=8.,  # font size for the x axis labels\n",
    ")\n",
    "plt.show()"
   ]
  },
  {
   "cell_type": "markdown",
   "metadata": {},
   "source": [
    "### 13. Recreate the dendrogram for last 12 merged clusters "
   ]
  },
  {
   "cell_type": "markdown",
   "metadata": {},
   "source": [
    "Hint: Use truncate_mode='lastp' attribute in dendrogram function to arrive at dendrogram "
   ]
  },
  {
   "cell_type": "code",
   "execution_count": 113,
   "metadata": {},
   "outputs": [
    {
     "data": {
      "image/png": "[encoded data removed]",
      "text/plain": [
       "<Figure size 432x288 with 1 Axes>"
      ]
     },
     "metadata": {
      "needs_background": "light"
     },
     "output_type": "display_data"
    }
   ],
   "source": [
    "plt.title('Hierarchical Clustering Dendrogram (truncated)')\n",
    "plt.xlabel('sample index or (cluster size)')\n",
    "plt.ylabel('distance')\n",
    "dendrogram(\n",
    "    Z,\n",
    "    truncate_mode='lastp',  # show only the last p merged clusters\n",
    "    p=12,  # show only the last p merged clusters\n",
    "    leaf_rotation=90.,\n",
    "    leaf_font_size=12.,\n",
    ")\n",
    "plt.show()"
   ]
  },
  {
   "cell_type": "markdown",
   "metadata": {},
   "source": [
    "### 14. From the truncated dendrogram, find out the optimal distance between clusters which u want to use an input for clustering data"
   ]
  },
  {
   "cell_type": "raw",
   "metadata": {},
   "source": [
    "Optimal  distance will be 50 as jump is huge after that"
   ]
  },
  {
   "cell_type": "markdown",
   "metadata": {},
   "source": [
    "### 15. Using this distance measure and fcluster function to cluster the data into 3 different groups"
   ]
  },
  {
   "cell_type": "code",
   "execution_count": 114,
   "metadata": {},
   "outputs": [
    {
     "data": {
      "text/plain": [
       "array([1, 1, 1, 1, 1, 1, 1, 1, 1, 1, 1, 1, 1, 1, 1, 1, 1, 1, 1, 1, 1, 1,\n",
       "       1, 1, 1, 1, 1, 1, 1, 1, 1, 1, 1, 1, 1, 1, 1, 1, 1, 1, 1, 1, 1, 1,\n",
       "       1, 1, 1, 1, 1, 1, 1, 1, 1, 1, 1, 1, 1, 1, 1, 1, 1, 1, 1, 1, 1, 1,\n",
       "       1, 1, 1, 1, 1, 1, 1, 1, 1, 1, 1, 1, 1, 1, 1, 1, 1, 1, 1, 1, 1, 1,\n",
       "       1, 1, 1, 1, 1, 1, 1, 1, 1, 1, 1, 1, 2, 2, 2, 2, 2, 2, 2, 2, 2, 2,\n",
       "       2, 2, 2, 2, 2, 2, 2, 2, 2, 2, 2, 2, 2, 2, 2, 2, 2, 2, 2, 2, 2, 2,\n",
       "       2, 2, 2, 2, 2, 2, 2, 2, 2, 2, 2, 2, 2, 2, 2, 2, 2, 2, 3, 3, 3, 3,\n",
       "       3, 3, 3, 3, 3, 3, 3, 3, 3, 3, 3, 3, 3, 3, 3, 3, 3, 3, 3, 3, 3, 3,\n",
       "       3, 3, 3, 3, 3, 3, 3, 3, 3, 3, 3, 3, 3, 3, 3, 3, 3, 3, 3, 3, 3, 3,\n",
       "       3, 3, 3, 3, 3, 3, 3, 3, 3, 3, 3, 3, 3, 3, 3, 3, 3, 3, 3, 3, 3, 3,\n",
       "       3, 3, 3, 3, 3, 3, 3, 3, 3, 3, 3, 3, 3, 3, 3, 3, 3, 3, 3, 3, 3, 3,\n",
       "       3, 3, 3, 3, 3, 3, 3, 3], dtype=int32)"
      ]
     },
     "execution_count": 114,
     "metadata": {},
     "output_type": "execute_result"
    }
   ],
   "source": [
    "from scipy.cluster.hierarchy import fcluster\n",
    "max_d = 50\n",
    "clusters = fcluster(Z, max_d, criterion='distance')\n",
    "clusters"
   ]
  },
  {
   "cell_type": "markdown",
   "metadata": {},
   "source": [
    "### Use matplotlib to visually observe the clusters in 2D space "
   ]
  },
  {
   "cell_type": "code",
   "execution_count": 116,
   "metadata": {},
   "outputs": [
    {
     "data": {
      "image/png": "[encoded data removed]",
      "text/plain": [
       "<Figure size 720x576 with 1 Axes>"
      ]
     },
     "metadata": {
      "needs_background": "light"
     },
     "output_type": "display_data"
    }
   ],
   "source": [
    "plt.figure(figsize=(10, 8))\n",
    "plt.scatter(df_hierarchy[:,0], df_hierarchy[:,1], c=clusters, cmap='prism')  # plot points with cluster dependent colors\n",
    "plt.show()"
   ]
  },
  {
   "cell_type": "code",
   "execution_count": null,
   "metadata": {},
   "outputs": [],
   "source": []
  }
 ],
 "metadata": {
  "kernelspec": {
   "display_name": "Python 3",
   "language": "python",
   "name": "python3"
  },
  "language_info": {
   "codemirror_mode": {
    "name": "ipython",
    "version": 3
   },
   "file_extension": ".py",
   "mimetype": "text/x-python",
   "name": "python",
   "nbconvert_exporter": "python",
   "pygments_lexer": "ipython3",
   "version": "3.7.0"
  }
 },
 "nbformat": 4,
 "nbformat_minor": 2
}
